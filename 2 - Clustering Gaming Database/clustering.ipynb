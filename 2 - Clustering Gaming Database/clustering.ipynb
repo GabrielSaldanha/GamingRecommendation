{
 "cells": [
  {
   "cell_type": "markdown",
   "metadata": {},
   "source": [
    "# Imports"
   ]
  },
  {
   "cell_type": "code",
   "execution_count": 1,
   "metadata": {},
   "outputs": [],
   "source": [
    "import os\n",
    "import zlib\n",
    "import pandas as pd\n",
    "import numpy as np\n",
    "import plotly.express as px\n",
    "from sklearn.metrics import calinski_harabasz_score\n",
    "from sklearn.metrics.pairwise import pairwise_distances\n",
    "from sklearn.preprocessing import MultiLabelBinarizer\n",
    "from kmodes.kprototypes import KPrototypes\n",
    "from sqlalchemy import create_engine\n",
    "\n",
    "SEED = 1111\n",
    "np.random.seed(SEED)"
   ]
  },
  {
   "cell_type": "code",
   "execution_count": 2,
   "metadata": {},
   "outputs": [],
   "source": [
    "def prepare_data_for_clustering(data, exclude=[]):\n",
    "    #drop columns from exclude's variable\n",
    "    if exclude != []:\n",
    "        data = data.drop(columns=exclude)\n",
    "\n",
    "    #transform categorical data into a binary format\n",
    "    if 'game_modes' not in exclude:\n",
    "        mlb_game_modes = MultiLabelBinarizer()\n",
    "        transformed_mlb_game_modes = mlb_game_modes.fit_transform(data['game_modes'])\n",
    "        data = pd.concat([data, pd.DataFrame(transformed_mlb_game_modes, columns=mlb_game_modes.classes_, index=data.index)], axis=1)\n",
    "        data = data.drop(columns=['game_modes'])\n",
    "    \n",
    "    if 'genres' not in exclude:\n",
    "        mlb_genres = MultiLabelBinarizer()\n",
    "        transformed_mlb_genres = mlb_genres.fit_transform(data['genres'])\n",
    "        data = pd.concat([data, pd.DataFrame(transformed_mlb_genres, columns=mlb_genres.classes_, index=data.index)], axis=1)\n",
    "        data = data.drop(columns=['genres'])\n",
    "    \n",
    "    if 'platforms' not in exclude:\n",
    "        mlb_platforms = MultiLabelBinarizer()\n",
    "        transformed_mlb_platforms = mlb_platforms.fit_transform(data['platforms'])\n",
    "        data = pd.concat([data, pd.DataFrame(transformed_mlb_platforms, columns=mlb_platforms.classes_, index=data.index)], axis=1)\n",
    "        data = data.drop(columns=['platforms'])\n",
    "\n",
    "    if 'themes' not in exclude:\n",
    "        mlb_themes = MultiLabelBinarizer()\n",
    "        transformed_mlb_themes = mlb_themes.fit_transform(data['themes'])\n",
    "        data = pd.concat([data, pd.DataFrame(transformed_mlb_themes, columns=mlb_themes.classes_, index=data.index)], axis=1)\n",
    "        data = data.drop(columns=['themes'])\n",
    "\n",
    "    return data"
   ]
  },
  {
   "cell_type": "code",
   "execution_count": 3,
   "metadata": {},
   "outputs": [],
   "source": [
    "def statistics_clusters(data):\n",
    "    #show values from each feature\n",
    "    game_modes_count = pd.Series(np.concatenate(data['game_modes']))\n",
    "    display(game_modes_count.value_counts())\n",
    "\n",
    "    genres_count = pd.Series(np.concatenate(data['genres']))\n",
    "    display(genres_count.value_counts())\n",
    "\n",
    "    platforms_count = pd.Series(np.concatenate(data['platforms']))\n",
    "    display(platforms_count.value_counts())\n",
    "\n",
    "    themes_count = pd.Series(np.concatenate(data['themes']))\n",
    "    display(themes_count.value_counts())\n",
    "\n",
    "    display(data['year_of_release'].value_counts())"
   ]
  },
  {
   "cell_type": "markdown",
   "metadata": {},
   "source": [
    "# Preprocessing data"
   ]
  },
  {
   "cell_type": "markdown",
   "metadata": {},
   "source": [
    "Reading data"
   ]
  },
  {
   "cell_type": "code",
   "execution_count": 4,
   "metadata": {},
   "outputs": [
    {
     "data": {
      "text/html": [
       "<div>\n",
       "<style scoped>\n",
       "    .dataframe tbody tr th:only-of-type {\n",
       "        vertical-align: middle;\n",
       "    }\n",
       "\n",
       "    .dataframe tbody tr th {\n",
       "        vertical-align: top;\n",
       "    }\n",
       "\n",
       "    .dataframe thead th {\n",
       "        text-align: right;\n",
       "    }\n",
       "</style>\n",
       "<table border=\"1\" class=\"dataframe\">\n",
       "  <thead>\n",
       "    <tr style=\"text-align: right;\">\n",
       "      <th></th>\n",
       "      <th>id</th>\n",
       "      <th>cover</th>\n",
       "      <th>first_release_date</th>\n",
       "      <th>game_modes</th>\n",
       "      <th>genres</th>\n",
       "      <th>name</th>\n",
       "      <th>platforms</th>\n",
       "      <th>themes</th>\n",
       "      <th>total_rating</th>\n",
       "    </tr>\n",
       "  </thead>\n",
       "  <tbody>\n",
       "    <tr>\n",
       "      <th>0</th>\n",
       "      <td>1</td>\n",
       "      <td>291911.0</td>\n",
       "      <td>9.535968e+08</td>\n",
       "      <td>[1]</td>\n",
       "      <td>[5, 13, 31]</td>\n",
       "      <td>Thief II: The Metal Age</td>\n",
       "      <td>[6]</td>\n",
       "      <td>[1, 17, 23]</td>\n",
       "      <td>88.149403</td>\n",
       "    </tr>\n",
       "    <tr>\n",
       "      <th>1</th>\n",
       "      <td>2</td>\n",
       "      <td>96746.0</td>\n",
       "      <td>9.123840e+08</td>\n",
       "      <td>[1]</td>\n",
       "      <td>[13, 31]</td>\n",
       "      <td>Thief: The Dark Project</td>\n",
       "      <td>[6]</td>\n",
       "      <td>[1, 17, 23]</td>\n",
       "      <td>78.289619</td>\n",
       "    </tr>\n",
       "    <tr>\n",
       "      <th>2</th>\n",
       "      <td>3</td>\n",
       "      <td>129190.0</td>\n",
       "      <td>1.085443e+09</td>\n",
       "      <td>[1]</td>\n",
       "      <td>[5, 13, 31]</td>\n",
       "      <td>Thief: Deadly Shadows</td>\n",
       "      <td>[6, 11]</td>\n",
       "      <td>[1, 17, 23]</td>\n",
       "      <td>82.503065</td>\n",
       "    </tr>\n",
       "    <tr>\n",
       "      <th>3</th>\n",
       "      <td>4</td>\n",
       "      <td>96744.0</td>\n",
       "      <td>1.393286e+09</td>\n",
       "      <td>[1]</td>\n",
       "      <td>[5, 31]</td>\n",
       "      <td>Thief</td>\n",
       "      <td>[6, 9, 12, 14, 48, 49]</td>\n",
       "      <td>[1, 23, 33]</td>\n",
       "      <td>66.948249</td>\n",
       "    </tr>\n",
       "    <tr>\n",
       "      <th>4</th>\n",
       "      <td>5</td>\n",
       "      <td>93899.0</td>\n",
       "      <td>9.141984e+08</td>\n",
       "      <td>[1, 3]</td>\n",
       "      <td>[12]</td>\n",
       "      <td>Baldur's Gate</td>\n",
       "      <td>[3, 6, 14, 39]</td>\n",
       "      <td>[17, 38]</td>\n",
       "      <td>86.002845</td>\n",
       "    </tr>\n",
       "    <tr>\n",
       "      <th>...</th>\n",
       "      <td>...</td>\n",
       "      <td>...</td>\n",
       "      <td>...</td>\n",
       "      <td>...</td>\n",
       "      <td>...</td>\n",
       "      <td>...</td>\n",
       "      <td>...</td>\n",
       "      <td>...</td>\n",
       "      <td>...</td>\n",
       "    </tr>\n",
       "    <tr>\n",
       "      <th>236537</th>\n",
       "      <td>298477</td>\n",
       "      <td>378217.0</td>\n",
       "      <td>NaN</td>\n",
       "      <td>NaN</td>\n",
       "      <td>[12, 13]</td>\n",
       "      <td>Fantasy Quest: Errandsaga</td>\n",
       "      <td>NaN</td>\n",
       "      <td>[1]</td>\n",
       "      <td>NaN</td>\n",
       "    </tr>\n",
       "    <tr>\n",
       "      <th>236538</th>\n",
       "      <td>298478</td>\n",
       "      <td>378219.0</td>\n",
       "      <td>NaN</td>\n",
       "      <td>NaN</td>\n",
       "      <td>[31, 32]</td>\n",
       "      <td>Forest of Fear</td>\n",
       "      <td>NaN</td>\n",
       "      <td>[1]</td>\n",
       "      <td>NaN</td>\n",
       "    </tr>\n",
       "    <tr>\n",
       "      <th>236539</th>\n",
       "      <td>298479</td>\n",
       "      <td>378221.0</td>\n",
       "      <td>NaN</td>\n",
       "      <td>NaN</td>\n",
       "      <td>[31, 32]</td>\n",
       "      <td>Ghost Moon High Noon</td>\n",
       "      <td>NaN</td>\n",
       "      <td>[1]</td>\n",
       "      <td>NaN</td>\n",
       "    </tr>\n",
       "    <tr>\n",
       "      <th>236540</th>\n",
       "      <td>298480</td>\n",
       "      <td>378220.0</td>\n",
       "      <td>NaN</td>\n",
       "      <td>NaN</td>\n",
       "      <td>[13, 15, 32]</td>\n",
       "      <td>Harlot's Diary</td>\n",
       "      <td>NaN</td>\n",
       "      <td>NaN</td>\n",
       "      <td>NaN</td>\n",
       "    </tr>\n",
       "    <tr>\n",
       "      <th>236541</th>\n",
       "      <td>298481</td>\n",
       "      <td>378222.0</td>\n",
       "      <td>NaN</td>\n",
       "      <td>NaN</td>\n",
       "      <td>[32]</td>\n",
       "      <td>Haus of Irndrous</td>\n",
       "      <td>NaN</td>\n",
       "      <td>NaN</td>\n",
       "      <td>NaN</td>\n",
       "    </tr>\n",
       "  </tbody>\n",
       "</table>\n",
       "<p>236542 rows × 9 columns</p>\n",
       "</div>"
      ],
      "text/plain": [
       "            id     cover  first_release_date game_modes        genres  \\\n",
       "0            1  291911.0        9.535968e+08        [1]   [5, 13, 31]   \n",
       "1            2   96746.0        9.123840e+08        [1]      [13, 31]   \n",
       "2            3  129190.0        1.085443e+09        [1]   [5, 13, 31]   \n",
       "3            4   96744.0        1.393286e+09        [1]       [5, 31]   \n",
       "4            5   93899.0        9.141984e+08     [1, 3]          [12]   \n",
       "...        ...       ...                 ...        ...           ...   \n",
       "236537  298477  378217.0                 NaN        NaN      [12, 13]   \n",
       "236538  298478  378219.0                 NaN        NaN      [31, 32]   \n",
       "236539  298479  378221.0                 NaN        NaN      [31, 32]   \n",
       "236540  298480  378220.0                 NaN        NaN  [13, 15, 32]   \n",
       "236541  298481  378222.0                 NaN        NaN          [32]   \n",
       "\n",
       "                             name               platforms       themes  \\\n",
       "0         Thief II: The Metal Age                     [6]  [1, 17, 23]   \n",
       "1         Thief: The Dark Project                     [6]  [1, 17, 23]   \n",
       "2           Thief: Deadly Shadows                 [6, 11]  [1, 17, 23]   \n",
       "3                           Thief  [6, 9, 12, 14, 48, 49]  [1, 23, 33]   \n",
       "4                   Baldur's Gate          [3, 6, 14, 39]     [17, 38]   \n",
       "...                           ...                     ...          ...   \n",
       "236537  Fantasy Quest: Errandsaga                     NaN          [1]   \n",
       "236538             Forest of Fear                     NaN          [1]   \n",
       "236539       Ghost Moon High Noon                     NaN          [1]   \n",
       "236540             Harlot's Diary                     NaN          NaN   \n",
       "236541           Haus of Irndrous                     NaN          NaN   \n",
       "\n",
       "        total_rating  \n",
       "0          88.149403  \n",
       "1          78.289619  \n",
       "2          82.503065  \n",
       "3          66.948249  \n",
       "4          86.002845  \n",
       "...              ...  \n",
       "236537           NaN  \n",
       "236538           NaN  \n",
       "236539           NaN  \n",
       "236540           NaN  \n",
       "236541           NaN  \n",
       "\n",
       "[236542 rows x 9 columns]"
      ]
     },
     "execution_count": 4,
     "metadata": {},
     "output_type": "execute_result"
    }
   ],
   "source": [
    "games_data_original = pd.read_json('../Databases/games.json')\n",
    "games_data_original"
   ]
  },
  {
   "cell_type": "code",
   "execution_count": 5,
   "metadata": {},
   "outputs": [
    {
     "data": {
      "text/plain": [
       "{1: 'single-player',\n",
       " 2: 'multiplayer',\n",
       " 3: 'co-operative',\n",
       " 4: 'split-screen',\n",
       " 5: 'massively-multiplayer-online-mmo',\n",
       " 6: 'battle-royale'}"
      ]
     },
     "execution_count": 5,
     "metadata": {},
     "output_type": "execute_result"
    }
   ],
   "source": [
    "game_modes_data = pd.read_json('../Databases/game_modes.json')\n",
    "\n",
    "game_modes_dict = {}\n",
    "for index, row in game_modes_data.iterrows():\n",
    "    game_modes_dict[row['id']] = row['slug']\n",
    "\n",
    "game_modes_dict"
   ]
  },
  {
   "cell_type": "code",
   "execution_count": 6,
   "metadata": {},
   "outputs": [
    {
     "data": {
      "text/plain": [
       "{2: 'point-and-click',\n",
       " 4: 'fighting',\n",
       " 5: 'shooter',\n",
       " 7: 'music',\n",
       " 8: 'platform',\n",
       " 9: 'puzzle',\n",
       " 10: 'racing',\n",
       " 11: 'real-time-strategy-rts',\n",
       " 12: 'role-playing-rpg',\n",
       " 13: 'simulator',\n",
       " 14: 'sport',\n",
       " 15: 'strategy',\n",
       " 16: 'turn-based-strategy-tbs',\n",
       " 24: 'tactical',\n",
       " 25: 'hack-and-slash-beat-em-up',\n",
       " 26: 'quiz-trivia',\n",
       " 30: 'pinball',\n",
       " 31: 'adventure',\n",
       " 32: 'indie',\n",
       " 33: 'arcade',\n",
       " 34: 'visual-novel',\n",
       " 35: 'card-and-board-game',\n",
       " 36: 'moba'}"
      ]
     },
     "execution_count": 6,
     "metadata": {},
     "output_type": "execute_result"
    }
   ],
   "source": [
    "genres_data = pd.read_json('../Databases/genres.json')\n",
    "\n",
    "genres_dict = {}\n",
    "for index, row in genres_data.iterrows():\n",
    "    genres_dict[row['id']] = row['slug']\n",
    "\n",
    "genres_dict"
   ]
  },
  {
   "cell_type": "code",
   "execution_count": 7,
   "metadata": {},
   "outputs": [
    {
     "data": {
      "text/plain": [
       "{1: 'action',\n",
       " 17: 'fantasy',\n",
       " 18: 'science-fiction',\n",
       " 19: 'horror',\n",
       " 20: 'thriller',\n",
       " 21: 'survival',\n",
       " 22: 'historical',\n",
       " 23: 'stealth',\n",
       " 27: 'comedy',\n",
       " 28: 'business',\n",
       " 31: 'drama',\n",
       " 32: 'non-fiction',\n",
       " 33: 'sandbox',\n",
       " 34: 'educational',\n",
       " 35: 'kids',\n",
       " 38: 'open-world',\n",
       " 39: 'warfare',\n",
       " 40: 'party',\n",
       " 41: '4x-explore-expand-exploit-and-exterminate',\n",
       " 42: 'erotic',\n",
       " 43: 'mystery',\n",
       " 44: 'romance'}"
      ]
     },
     "execution_count": 7,
     "metadata": {},
     "output_type": "execute_result"
    }
   ],
   "source": [
    "themes_data = pd.read_json('../Databases/themes.json')\n",
    "\n",
    "themes_dict = {}\n",
    "for index, row in themes_data.iterrows():\n",
    "    themes_dict[row['id']] = row['slug']\n",
    "\n",
    "themes_dict"
   ]
  },
  {
   "cell_type": "code",
   "execution_count": 8,
   "metadata": {},
   "outputs": [
    {
     "data": {
      "text/plain": [
       "{3: 'linux',\n",
       " 4: 'n64',\n",
       " 5: 'wii',\n",
       " 6: 'win',\n",
       " 7: 'ps',\n",
       " 8: 'ps2',\n",
       " 9: 'ps3',\n",
       " 11: 'xbox',\n",
       " 12: 'xbox360',\n",
       " 13: 'dos',\n",
       " 14: 'mac',\n",
       " 15: 'c64',\n",
       " 16: 'amiga',\n",
       " 18: 'nes',\n",
       " 19: 'snes',\n",
       " 20: 'nds',\n",
       " 21: 'ngc',\n",
       " 22: 'gbc',\n",
       " 23: 'dc',\n",
       " 24: 'gba',\n",
       " 25: 'acpc',\n",
       " 26: 'zxs',\n",
       " 27: 'msx',\n",
       " 29: 'genesis-slash-megadrive',\n",
       " 30: 'sega32',\n",
       " 32: 'saturn',\n",
       " 33: 'gb',\n",
       " 34: 'android',\n",
       " 35: 'gamegear',\n",
       " 37: '3ds',\n",
       " 38: 'psp',\n",
       " 39: 'ios',\n",
       " 41: 'wiiu',\n",
       " 42: 'ngage',\n",
       " 44: 'zod',\n",
       " 46: 'psvita',\n",
       " 47: 'vc',\n",
       " 48: 'ps4--1',\n",
       " 49: 'xboxone',\n",
       " 50: '3do',\n",
       " 51: 'fds',\n",
       " 52: 'arcade',\n",
       " 53: 'msx2',\n",
       " 55: 'mobile',\n",
       " 57: 'wonderswan',\n",
       " 58: 'sfam',\n",
       " 59: 'atari2600',\n",
       " 60: 'atari7800',\n",
       " 61: 'lynx',\n",
       " 62: 'jaguar',\n",
       " 63: 'atari-st',\n",
       " 64: 'sms',\n",
       " 65: 'atari8bit',\n",
       " 66: 'atari5200',\n",
       " 67: 'intellivision',\n",
       " 68: 'colecovision',\n",
       " 69: 'bbcmicro',\n",
       " 70: 'vectrex',\n",
       " 71: 'vic-20',\n",
       " 72: 'ouya',\n",
       " 73: 'blackberry',\n",
       " 74: 'winphone',\n",
       " 75: 'appleii',\n",
       " 77: 'x1',\n",
       " 78: 'segacd',\n",
       " 79: 'neogeomvs',\n",
       " 80: 'neogeoaes',\n",
       " 82: 'browser',\n",
       " 84: 'sg1000',\n",
       " 85: 'donner30',\n",
       " 86: 'turbografx16--1',\n",
       " 87: 'virtualboy',\n",
       " 88: 'odyssey--1',\n",
       " 89: 'microvision--1',\n",
       " 90: 'cpet',\n",
       " 91: 'astrocade',\n",
       " 93: 'c16',\n",
       " 94: 'c-plus-4',\n",
       " 95: 'pdp1',\n",
       " 96: 'pdp10',\n",
       " 97: 'pdp-8--1',\n",
       " 98: 'gt40',\n",
       " 99: 'famicom',\n",
       " 100: 'analogueelectronics',\n",
       " 101: 'nimrod',\n",
       " 102: 'edsac--1',\n",
       " 103: 'pdp-7--1',\n",
       " 104: 'hp2100',\n",
       " 105: 'hp3000',\n",
       " 106: 'sdssigma7',\n",
       " 107: 'call-a-computer',\n",
       " 108: 'pdp11',\n",
       " 109: 'cdccyber70',\n",
       " 110: 'plato--1',\n",
       " 111: 'imlac-pds1',\n",
       " 112: 'microcomputer--1',\n",
       " 113: 'onlive-game-system',\n",
       " 114: 'amiga-cd32',\n",
       " 115: 'apple-iigs',\n",
       " 116: 'acorn-archimedes',\n",
       " 117: 'philips-cd-i',\n",
       " 118: 'fm-towns',\n",
       " 119: 'neo-geo-pocket',\n",
       " 120: 'neo-geo-pocket-color',\n",
       " 121: 'sharp-x68000',\n",
       " 122: 'nuon',\n",
       " 123: 'wonderswan-color',\n",
       " 124: 'swancrystal',\n",
       " 125: 'pc-8800-series',\n",
       " 126: 'trs-80',\n",
       " 127: 'fairchild-channel-f',\n",
       " 128: 'supergrafx',\n",
       " 129: 'ti-99',\n",
       " 130: 'switch',\n",
       " 131: 'nintendo-playstation',\n",
       " 132: 'amazon-fire-tv',\n",
       " 133: 'odyssey-2-slash-videopac-g7000',\n",
       " 134: 'acorn-electron',\n",
       " 135: 'hyper-neo-geo-64',\n",
       " 136: 'neo-geo-cd',\n",
       " 137: 'new-nintendo-3ds',\n",
       " 138: 'vc-4000',\n",
       " 139: '1292-advanced-programmable-video-system',\n",
       " 140: 'ay-3-8500',\n",
       " 141: 'ay-3-8610',\n",
       " 142: 'pc-50x-family',\n",
       " 143: 'ay-3-8760',\n",
       " 144: 'ay-3-8710',\n",
       " 145: 'ay-3-8603',\n",
       " 146: 'ay-3-8605',\n",
       " 147: 'ay-3-8606',\n",
       " 148: 'ay-3-8607',\n",
       " 149: 'pc-9800-series',\n",
       " 150: 'turbografx-16-slash-pc-engine-cd',\n",
       " 151: 'trs-80-color-computer',\n",
       " 152: 'fm-7',\n",
       " 153: 'dragon-32-slash-64',\n",
       " 154: 'amstrad-pcw',\n",
       " 155: 'tatung-einstein',\n",
       " 156: 'thomson-mo5',\n",
       " 157: 'nec-pc-6000-series',\n",
       " 158: 'commodore-cdtv',\n",
       " 159: 'nintendo-dsi',\n",
       " 161: 'windows-mixed-reality',\n",
       " 162: 'oculus-vr',\n",
       " 163: 'steam-vr',\n",
       " 164: 'daydream',\n",
       " 165: 'psvr',\n",
       " 166: 'pokemon-mini',\n",
       " 167: 'ps5',\n",
       " 169: 'series-x',\n",
       " 170: 'stadia',\n",
       " 203: 'duplicate-stadia',\n",
       " 236: 'exidy-sorcerer',\n",
       " 237: 'sol-20',\n",
       " 238: 'dvd-player',\n",
       " 239: 'blu-ray-player',\n",
       " 240: 'zeebo',\n",
       " 274: 'pc-fx',\n",
       " 306: 'satellaview',\n",
       " 307: 'game-and-watch',\n",
       " 308: 'playdia',\n",
       " 309: 'evercade',\n",
       " 339: 'sega-pico',\n",
       " 372: 'ooparts',\n",
       " 373: 'sinclair-zx81',\n",
       " 374: 'sharp-mz-2200',\n",
       " 375: 'epoch-cassette-vision',\n",
       " 376: 'epoch-super-cassette-vision',\n",
       " 377: 'plug-and-play',\n",
       " 378: 'gamate',\n",
       " 379: 'game-dot-com',\n",
       " 380: 'casio-loopy',\n",
       " 381: 'playdate',\n",
       " 382: 'intellivision-amico',\n",
       " 384: 'oculus-quest',\n",
       " 385: 'oculus-rift',\n",
       " 386: 'meta-quest-2',\n",
       " 387: 'oculus-go',\n",
       " 388: 'gear-vr',\n",
       " 389: 'airconsole',\n",
       " 390: 'psvr2',\n",
       " 405: 'windows-mobile',\n",
       " 406: 'sinclair-ql',\n",
       " 407: 'hyperscan',\n",
       " 408: 'mega-duck-slash-cougar-boy',\n",
       " 409: 'legacy-computer',\n",
       " 410: 'atari-jaguar-cd',\n",
       " 411: 'handheld-electronic-lcd',\n",
       " 412: 'leapster',\n",
       " 413: 'leapster-explorer-slash-leadpad-explorer',\n",
       " 414: 'leaptv',\n",
       " 415: 'watara-slash-quickshot-supervision',\n",
       " 416: 'nintendo-64dd',\n",
       " 417: 'palm-os',\n",
       " 438: 'arduboy',\n",
       " 439: 'vsmile',\n",
       " 440: 'visual-memory-unit-slash-visual-memory-system',\n",
       " 441: 'pocketstation',\n",
       " 471: 'meta-quest-3',\n",
       " 472: 'visionos',\n",
       " 473: 'arcadia-2001',\n",
       " 474: 'gizmondo',\n",
       " 475: 'r-zone',\n",
       " 476: 'apple-pippin',\n",
       " 477: 'panasonic-jungle',\n",
       " 478: 'panasonic-m2',\n",
       " 479: 'terebikko-slash-see-n-say-video-phone',\n",
       " 480: 'super-acan',\n",
       " 481: 'tomy-tutor-slash-pyuta-slash-grandstand-tutor',\n",
       " 482: 'sega-cd-32x'}"
      ]
     },
     "execution_count": 8,
     "metadata": {},
     "output_type": "execute_result"
    }
   ],
   "source": [
    "platforms_data = pd.read_json('../Databases/platforms.json')\n",
    "\n",
    "platforms_dict = {}\n",
    "for index, row in platforms_data.iterrows():\n",
    "    platforms_dict[row['id']] = row['slug']\n",
    "\n",
    "platforms_dict"
   ]
  },
  {
   "cell_type": "code",
   "execution_count": 9,
   "metadata": {},
   "outputs": [
    {
     "data": {
      "text/html": [
       "<div>\n",
       "<style scoped>\n",
       "    .dataframe tbody tr th:only-of-type {\n",
       "        vertical-align: middle;\n",
       "    }\n",
       "\n",
       "    .dataframe tbody tr th {\n",
       "        vertical-align: top;\n",
       "    }\n",
       "\n",
       "    .dataframe thead th {\n",
       "        text-align: right;\n",
       "    }\n",
       "</style>\n",
       "<table border=\"1\" class=\"dataframe\">\n",
       "  <thead>\n",
       "    <tr style=\"text-align: right;\">\n",
       "      <th></th>\n",
       "      <th>cover</th>\n",
       "      <th>url</th>\n",
       "    </tr>\n",
       "  </thead>\n",
       "  <tbody>\n",
       "    <tr>\n",
       "      <th>0</th>\n",
       "      <td>109</td>\n",
       "      <td>//images.igdb.com/igdb/image/upload/t_cover_bi...</td>\n",
       "    </tr>\n",
       "    <tr>\n",
       "      <th>1</th>\n",
       "      <td>243</td>\n",
       "      <td>//images.igdb.com/igdb/image/upload/t_cover_bi...</td>\n",
       "    </tr>\n",
       "    <tr>\n",
       "      <th>2</th>\n",
       "      <td>249</td>\n",
       "      <td>//images.igdb.com/igdb/image/upload/t_cover_bi...</td>\n",
       "    </tr>\n",
       "    <tr>\n",
       "      <th>3</th>\n",
       "      <td>250</td>\n",
       "      <td>//images.igdb.com/igdb/image/upload/t_cover_bi...</td>\n",
       "    </tr>\n",
       "    <tr>\n",
       "      <th>4</th>\n",
       "      <td>252</td>\n",
       "      <td>//images.igdb.com/igdb/image/upload/t_cover_bi...</td>\n",
       "    </tr>\n",
       "    <tr>\n",
       "      <th>...</th>\n",
       "      <td>...</td>\n",
       "      <td>...</td>\n",
       "    </tr>\n",
       "    <tr>\n",
       "      <th>214369</th>\n",
       "      <td>378287</td>\n",
       "      <td>//images.igdb.com/igdb/image/upload/t_cover_bi...</td>\n",
       "    </tr>\n",
       "    <tr>\n",
       "      <th>214370</th>\n",
       "      <td>378326</td>\n",
       "      <td>//images.igdb.com/igdb/image/upload/t_cover_bi...</td>\n",
       "    </tr>\n",
       "    <tr>\n",
       "      <th>214371</th>\n",
       "      <td>378330</td>\n",
       "      <td>//images.igdb.com/igdb/image/upload/t_cover_bi...</td>\n",
       "    </tr>\n",
       "    <tr>\n",
       "      <th>214372</th>\n",
       "      <td>378337</td>\n",
       "      <td>//images.igdb.com/igdb/image/upload/t_cover_bi...</td>\n",
       "    </tr>\n",
       "    <tr>\n",
       "      <th>214373</th>\n",
       "      <td>378351</td>\n",
       "      <td>//images.igdb.com/igdb/image/upload/t_cover_bi...</td>\n",
       "    </tr>\n",
       "  </tbody>\n",
       "</table>\n",
       "<p>214374 rows × 2 columns</p>\n",
       "</div>"
      ],
      "text/plain": [
       "         cover                                                url\n",
       "0          109  //images.igdb.com/igdb/image/upload/t_cover_bi...\n",
       "1          243  //images.igdb.com/igdb/image/upload/t_cover_bi...\n",
       "2          249  //images.igdb.com/igdb/image/upload/t_cover_bi...\n",
       "3          250  //images.igdb.com/igdb/image/upload/t_cover_bi...\n",
       "4          252  //images.igdb.com/igdb/image/upload/t_cover_bi...\n",
       "...        ...                                                ...\n",
       "214369  378287  //images.igdb.com/igdb/image/upload/t_cover_bi...\n",
       "214370  378326  //images.igdb.com/igdb/image/upload/t_cover_bi...\n",
       "214371  378330  //images.igdb.com/igdb/image/upload/t_cover_bi...\n",
       "214372  378337  //images.igdb.com/igdb/image/upload/t_cover_bi...\n",
       "214373  378351  //images.igdb.com/igdb/image/upload/t_cover_bi...\n",
       "\n",
       "[214374 rows x 2 columns]"
      ]
     },
     "execution_count": 9,
     "metadata": {},
     "output_type": "execute_result"
    }
   ],
   "source": [
    "cover_data = pd.read_json('../Databases/covers.json')\n",
    "cover_data = cover_data.dropna(subset=['url'])\n",
    "cover_data = cover_data.drop(columns=['game', 'height', 'width', 'alpha_channel', 'animated', 'game_localization'])\n",
    "cover_data = cover_data.reset_index(drop=True)\n",
    "cover_data = cover_data.rename({'id': 'cover'}, axis='columns')\n",
    "cover_data['url'] = cover_data['url'].str.replace('t_thumb','t_cover_big')\n",
    "cover_data"
   ]
  },
  {
   "cell_type": "markdown",
   "metadata": {},
   "source": [
    "Removing rows with empty values"
   ]
  },
  {
   "cell_type": "code",
   "execution_count": 10,
   "metadata": {},
   "outputs": [
    {
     "data": {
      "text/html": [
       "<div>\n",
       "<style scoped>\n",
       "    .dataframe tbody tr th:only-of-type {\n",
       "        vertical-align: middle;\n",
       "    }\n",
       "\n",
       "    .dataframe tbody tr th {\n",
       "        vertical-align: top;\n",
       "    }\n",
       "\n",
       "    .dataframe thead th {\n",
       "        text-align: right;\n",
       "    }\n",
       "</style>\n",
       "<table border=\"1\" class=\"dataframe\">\n",
       "  <thead>\n",
       "    <tr style=\"text-align: right;\">\n",
       "      <th></th>\n",
       "      <th>id</th>\n",
       "      <th>cover</th>\n",
       "      <th>first_release_date</th>\n",
       "      <th>game_modes</th>\n",
       "      <th>genres</th>\n",
       "      <th>name</th>\n",
       "      <th>platforms</th>\n",
       "      <th>themes</th>\n",
       "      <th>total_rating</th>\n",
       "    </tr>\n",
       "  </thead>\n",
       "  <tbody>\n",
       "    <tr>\n",
       "      <th>0</th>\n",
       "      <td>1</td>\n",
       "      <td>291911.0</td>\n",
       "      <td>9.535968e+08</td>\n",
       "      <td>[1]</td>\n",
       "      <td>[5, 13, 31]</td>\n",
       "      <td>Thief II: The Metal Age</td>\n",
       "      <td>[6]</td>\n",
       "      <td>[1, 17, 23]</td>\n",
       "      <td>88.149403</td>\n",
       "    </tr>\n",
       "    <tr>\n",
       "      <th>1</th>\n",
       "      <td>2</td>\n",
       "      <td>96746.0</td>\n",
       "      <td>9.123840e+08</td>\n",
       "      <td>[1]</td>\n",
       "      <td>[13, 31]</td>\n",
       "      <td>Thief: The Dark Project</td>\n",
       "      <td>[6]</td>\n",
       "      <td>[1, 17, 23]</td>\n",
       "      <td>78.289619</td>\n",
       "    </tr>\n",
       "    <tr>\n",
       "      <th>2</th>\n",
       "      <td>3</td>\n",
       "      <td>129190.0</td>\n",
       "      <td>1.085443e+09</td>\n",
       "      <td>[1]</td>\n",
       "      <td>[5, 13, 31]</td>\n",
       "      <td>Thief: Deadly Shadows</td>\n",
       "      <td>[6, 11]</td>\n",
       "      <td>[1, 17, 23]</td>\n",
       "      <td>82.503065</td>\n",
       "    </tr>\n",
       "    <tr>\n",
       "      <th>3</th>\n",
       "      <td>4</td>\n",
       "      <td>96744.0</td>\n",
       "      <td>1.393286e+09</td>\n",
       "      <td>[1]</td>\n",
       "      <td>[5, 31]</td>\n",
       "      <td>Thief</td>\n",
       "      <td>[6, 9, 12, 14, 48, 49]</td>\n",
       "      <td>[1, 23, 33]</td>\n",
       "      <td>66.948249</td>\n",
       "    </tr>\n",
       "    <tr>\n",
       "      <th>4</th>\n",
       "      <td>5</td>\n",
       "      <td>93899.0</td>\n",
       "      <td>9.141984e+08</td>\n",
       "      <td>[1, 3]</td>\n",
       "      <td>[12]</td>\n",
       "      <td>Baldur's Gate</td>\n",
       "      <td>[3, 6, 14, 39]</td>\n",
       "      <td>[17, 38]</td>\n",
       "      <td>86.002845</td>\n",
       "    </tr>\n",
       "    <tr>\n",
       "      <th>...</th>\n",
       "      <td>...</td>\n",
       "      <td>...</td>\n",
       "      <td>...</td>\n",
       "      <td>...</td>\n",
       "      <td>...</td>\n",
       "      <td>...</td>\n",
       "      <td>...</td>\n",
       "      <td>...</td>\n",
       "      <td>...</td>\n",
       "    </tr>\n",
       "    <tr>\n",
       "      <th>29497</th>\n",
       "      <td>292897</td>\n",
       "      <td>370638.0</td>\n",
       "      <td>1.711411e+09</td>\n",
       "      <td>NaN</td>\n",
       "      <td>[31]</td>\n",
       "      <td>Last Case of Benedict Fox: Definitive Edition</td>\n",
       "      <td>[167]</td>\n",
       "      <td>[1]</td>\n",
       "      <td>85.000000</td>\n",
       "    </tr>\n",
       "    <tr>\n",
       "      <th>29498</th>\n",
       "      <td>293325</td>\n",
       "      <td>371811.0</td>\n",
       "      <td>1.710979e+09</td>\n",
       "      <td>[2, 5, 6]</td>\n",
       "      <td>[2, 12, 32]</td>\n",
       "      <td>Ruthnar Online</td>\n",
       "      <td>[6]</td>\n",
       "      <td>[21, 33, 38]</td>\n",
       "      <td>95.193617</td>\n",
       "    </tr>\n",
       "    <tr>\n",
       "      <th>29499</th>\n",
       "      <td>294233</td>\n",
       "      <td>372931.0</td>\n",
       "      <td>1.712102e+09</td>\n",
       "      <td>[1]</td>\n",
       "      <td>[5, 33]</td>\n",
       "      <td>Flightpath: Adventures in Venaris</td>\n",
       "      <td>[48, 49, 130, 167, 169]</td>\n",
       "      <td>[1]</td>\n",
       "      <td>77.000000</td>\n",
       "    </tr>\n",
       "    <tr>\n",
       "      <th>29500</th>\n",
       "      <td>294643</td>\n",
       "      <td>375318.0</td>\n",
       "      <td>1.712189e+09</td>\n",
       "      <td>[1]</td>\n",
       "      <td>[12, 31]</td>\n",
       "      <td>Smuta</td>\n",
       "      <td>[6]</td>\n",
       "      <td>[1, 34, 38]</td>\n",
       "      <td>31.913523</td>\n",
       "    </tr>\n",
       "    <tr>\n",
       "      <th>29501</th>\n",
       "      <td>294661</td>\n",
       "      <td>373542.0</td>\n",
       "      <td>1.711930e+09</td>\n",
       "      <td>[2, 3]</td>\n",
       "      <td>[31, 32]</td>\n",
       "      <td>Content Warning</td>\n",
       "      <td>[6]</td>\n",
       "      <td>[1, 19, 27]</td>\n",
       "      <td>60.572257</td>\n",
       "    </tr>\n",
       "  </tbody>\n",
       "</table>\n",
       "<p>29502 rows × 9 columns</p>\n",
       "</div>"
      ],
      "text/plain": [
       "           id     cover  first_release_date game_modes       genres  \\\n",
       "0           1  291911.0        9.535968e+08        [1]  [5, 13, 31]   \n",
       "1           2   96746.0        9.123840e+08        [1]     [13, 31]   \n",
       "2           3  129190.0        1.085443e+09        [1]  [5, 13, 31]   \n",
       "3           4   96744.0        1.393286e+09        [1]      [5, 31]   \n",
       "4           5   93899.0        9.141984e+08     [1, 3]         [12]   \n",
       "...       ...       ...                 ...        ...          ...   \n",
       "29497  292897  370638.0        1.711411e+09        NaN         [31]   \n",
       "29498  293325  371811.0        1.710979e+09  [2, 5, 6]  [2, 12, 32]   \n",
       "29499  294233  372931.0        1.712102e+09        [1]      [5, 33]   \n",
       "29500  294643  375318.0        1.712189e+09        [1]     [12, 31]   \n",
       "29501  294661  373542.0        1.711930e+09     [2, 3]     [31, 32]   \n",
       "\n",
       "                                                name                platforms  \\\n",
       "0                            Thief II: The Metal Age                      [6]   \n",
       "1                            Thief: The Dark Project                      [6]   \n",
       "2                              Thief: Deadly Shadows                  [6, 11]   \n",
       "3                                              Thief   [6, 9, 12, 14, 48, 49]   \n",
       "4                                      Baldur's Gate           [3, 6, 14, 39]   \n",
       "...                                              ...                      ...   \n",
       "29497  Last Case of Benedict Fox: Definitive Edition                    [167]   \n",
       "29498                                 Ruthnar Online                      [6]   \n",
       "29499              Flightpath: Adventures in Venaris  [48, 49, 130, 167, 169]   \n",
       "29500                                          Smuta                      [6]   \n",
       "29501                                Content Warning                      [6]   \n",
       "\n",
       "             themes  total_rating  \n",
       "0       [1, 17, 23]     88.149403  \n",
       "1       [1, 17, 23]     78.289619  \n",
       "2       [1, 17, 23]     82.503065  \n",
       "3       [1, 23, 33]     66.948249  \n",
       "4          [17, 38]     86.002845  \n",
       "...             ...           ...  \n",
       "29497           [1]     85.000000  \n",
       "29498  [21, 33, 38]     95.193617  \n",
       "29499           [1]     77.000000  \n",
       "29500   [1, 34, 38]     31.913523  \n",
       "29501   [1, 19, 27]     60.572257  \n",
       "\n",
       "[29502 rows x 9 columns]"
      ]
     },
     "execution_count": 10,
     "metadata": {},
     "output_type": "execute_result"
    }
   ],
   "source": [
    "games_data = games_data_original.dropna(subset=['name','platforms', 'genres', 'total_rating','first_release_date'])\n",
    "games_data = games_data.reset_index(drop=True)\n",
    "games_data"
   ]
  },
  {
   "cell_type": "markdown",
   "metadata": {},
   "source": [
    "Converting year_of_release to datetime"
   ]
  },
  {
   "cell_type": "code",
   "execution_count": 11,
   "metadata": {},
   "outputs": [
    {
     "data": {
      "text/html": [
       "<div>\n",
       "<style scoped>\n",
       "    .dataframe tbody tr th:only-of-type {\n",
       "        vertical-align: middle;\n",
       "    }\n",
       "\n",
       "    .dataframe tbody tr th {\n",
       "        vertical-align: top;\n",
       "    }\n",
       "\n",
       "    .dataframe thead th {\n",
       "        text-align: right;\n",
       "    }\n",
       "</style>\n",
       "<table border=\"1\" class=\"dataframe\">\n",
       "  <thead>\n",
       "    <tr style=\"text-align: right;\">\n",
       "      <th></th>\n",
       "      <th>id</th>\n",
       "      <th>cover</th>\n",
       "      <th>game_modes</th>\n",
       "      <th>genres</th>\n",
       "      <th>name</th>\n",
       "      <th>platforms</th>\n",
       "      <th>themes</th>\n",
       "      <th>total_rating</th>\n",
       "      <th>year_of_release</th>\n",
       "    </tr>\n",
       "  </thead>\n",
       "  <tbody>\n",
       "    <tr>\n",
       "      <th>0</th>\n",
       "      <td>1</td>\n",
       "      <td>291911.0</td>\n",
       "      <td>[1]</td>\n",
       "      <td>[5, 13, 31]</td>\n",
       "      <td>Thief II: The Metal Age</td>\n",
       "      <td>[6]</td>\n",
       "      <td>[1, 17, 23]</td>\n",
       "      <td>88.149403</td>\n",
       "      <td>2000</td>\n",
       "    </tr>\n",
       "    <tr>\n",
       "      <th>1</th>\n",
       "      <td>2</td>\n",
       "      <td>96746.0</td>\n",
       "      <td>[1]</td>\n",
       "      <td>[13, 31]</td>\n",
       "      <td>Thief: The Dark Project</td>\n",
       "      <td>[6]</td>\n",
       "      <td>[1, 17, 23]</td>\n",
       "      <td>78.289619</td>\n",
       "      <td>1998</td>\n",
       "    </tr>\n",
       "    <tr>\n",
       "      <th>2</th>\n",
       "      <td>3</td>\n",
       "      <td>129190.0</td>\n",
       "      <td>[1]</td>\n",
       "      <td>[5, 13, 31]</td>\n",
       "      <td>Thief: Deadly Shadows</td>\n",
       "      <td>[6, 11]</td>\n",
       "      <td>[1, 17, 23]</td>\n",
       "      <td>82.503065</td>\n",
       "      <td>2004</td>\n",
       "    </tr>\n",
       "    <tr>\n",
       "      <th>3</th>\n",
       "      <td>4</td>\n",
       "      <td>96744.0</td>\n",
       "      <td>[1]</td>\n",
       "      <td>[5, 31]</td>\n",
       "      <td>Thief</td>\n",
       "      <td>[6, 9, 12, 14, 48, 49]</td>\n",
       "      <td>[1, 23, 33]</td>\n",
       "      <td>66.948249</td>\n",
       "      <td>2014</td>\n",
       "    </tr>\n",
       "    <tr>\n",
       "      <th>4</th>\n",
       "      <td>5</td>\n",
       "      <td>93899.0</td>\n",
       "      <td>[1, 3]</td>\n",
       "      <td>[12]</td>\n",
       "      <td>Baldur's Gate</td>\n",
       "      <td>[3, 6, 14, 39]</td>\n",
       "      <td>[17, 38]</td>\n",
       "      <td>86.002845</td>\n",
       "      <td>1998</td>\n",
       "    </tr>\n",
       "    <tr>\n",
       "      <th>...</th>\n",
       "      <td>...</td>\n",
       "      <td>...</td>\n",
       "      <td>...</td>\n",
       "      <td>...</td>\n",
       "      <td>...</td>\n",
       "      <td>...</td>\n",
       "      <td>...</td>\n",
       "      <td>...</td>\n",
       "      <td>...</td>\n",
       "    </tr>\n",
       "    <tr>\n",
       "      <th>29497</th>\n",
       "      <td>292897</td>\n",
       "      <td>370638.0</td>\n",
       "      <td>NaN</td>\n",
       "      <td>[31]</td>\n",
       "      <td>Last Case of Benedict Fox: Definitive Edition</td>\n",
       "      <td>[167]</td>\n",
       "      <td>[1]</td>\n",
       "      <td>85.000000</td>\n",
       "      <td>2024</td>\n",
       "    </tr>\n",
       "    <tr>\n",
       "      <th>29498</th>\n",
       "      <td>293325</td>\n",
       "      <td>371811.0</td>\n",
       "      <td>[2, 5, 6]</td>\n",
       "      <td>[2, 12, 32]</td>\n",
       "      <td>Ruthnar Online</td>\n",
       "      <td>[6]</td>\n",
       "      <td>[21, 33, 38]</td>\n",
       "      <td>95.193617</td>\n",
       "      <td>2024</td>\n",
       "    </tr>\n",
       "    <tr>\n",
       "      <th>29499</th>\n",
       "      <td>294233</td>\n",
       "      <td>372931.0</td>\n",
       "      <td>[1]</td>\n",
       "      <td>[5, 33]</td>\n",
       "      <td>Flightpath: Adventures in Venaris</td>\n",
       "      <td>[48, 49, 130, 167, 169]</td>\n",
       "      <td>[1]</td>\n",
       "      <td>77.000000</td>\n",
       "      <td>2024</td>\n",
       "    </tr>\n",
       "    <tr>\n",
       "      <th>29500</th>\n",
       "      <td>294643</td>\n",
       "      <td>375318.0</td>\n",
       "      <td>[1]</td>\n",
       "      <td>[12, 31]</td>\n",
       "      <td>Smuta</td>\n",
       "      <td>[6]</td>\n",
       "      <td>[1, 34, 38]</td>\n",
       "      <td>31.913523</td>\n",
       "      <td>2024</td>\n",
       "    </tr>\n",
       "    <tr>\n",
       "      <th>29501</th>\n",
       "      <td>294661</td>\n",
       "      <td>373542.0</td>\n",
       "      <td>[2, 3]</td>\n",
       "      <td>[31, 32]</td>\n",
       "      <td>Content Warning</td>\n",
       "      <td>[6]</td>\n",
       "      <td>[1, 19, 27]</td>\n",
       "      <td>60.572257</td>\n",
       "      <td>2024</td>\n",
       "    </tr>\n",
       "  </tbody>\n",
       "</table>\n",
       "<p>29502 rows × 9 columns</p>\n",
       "</div>"
      ],
      "text/plain": [
       "           id     cover game_modes       genres  \\\n",
       "0           1  291911.0        [1]  [5, 13, 31]   \n",
       "1           2   96746.0        [1]     [13, 31]   \n",
       "2           3  129190.0        [1]  [5, 13, 31]   \n",
       "3           4   96744.0        [1]      [5, 31]   \n",
       "4           5   93899.0     [1, 3]         [12]   \n",
       "...       ...       ...        ...          ...   \n",
       "29497  292897  370638.0        NaN         [31]   \n",
       "29498  293325  371811.0  [2, 5, 6]  [2, 12, 32]   \n",
       "29499  294233  372931.0        [1]      [5, 33]   \n",
       "29500  294643  375318.0        [1]     [12, 31]   \n",
       "29501  294661  373542.0     [2, 3]     [31, 32]   \n",
       "\n",
       "                                                name                platforms  \\\n",
       "0                            Thief II: The Metal Age                      [6]   \n",
       "1                            Thief: The Dark Project                      [6]   \n",
       "2                              Thief: Deadly Shadows                  [6, 11]   \n",
       "3                                              Thief   [6, 9, 12, 14, 48, 49]   \n",
       "4                                      Baldur's Gate           [3, 6, 14, 39]   \n",
       "...                                              ...                      ...   \n",
       "29497  Last Case of Benedict Fox: Definitive Edition                    [167]   \n",
       "29498                                 Ruthnar Online                      [6]   \n",
       "29499              Flightpath: Adventures in Venaris  [48, 49, 130, 167, 169]   \n",
       "29500                                          Smuta                      [6]   \n",
       "29501                                Content Warning                      [6]   \n",
       "\n",
       "             themes  total_rating  year_of_release  \n",
       "0       [1, 17, 23]     88.149403             2000  \n",
       "1       [1, 17, 23]     78.289619             1998  \n",
       "2       [1, 17, 23]     82.503065             2004  \n",
       "3       [1, 23, 33]     66.948249             2014  \n",
       "4          [17, 38]     86.002845             1998  \n",
       "...             ...           ...              ...  \n",
       "29497           [1]     85.000000             2024  \n",
       "29498  [21, 33, 38]     95.193617             2024  \n",
       "29499           [1]     77.000000             2024  \n",
       "29500   [1, 34, 38]     31.913523             2024  \n",
       "29501   [1, 19, 27]     60.572257             2024  \n",
       "\n",
       "[29502 rows x 9 columns]"
      ]
     },
     "execution_count": 11,
     "metadata": {},
     "output_type": "execute_result"
    }
   ],
   "source": [
    "games_data['first_release_date'] = pd.to_datetime(games_data['first_release_date'], unit='s')\n",
    "games_data['year_of_release'] = games_data['first_release_date'].dt.year\n",
    "games_data = games_data.drop(columns=['first_release_date'])\n",
    "games_data"
   ]
  },
  {
   "cell_type": "markdown",
   "metadata": {},
   "source": [
    "Merging URL cover data with games table"
   ]
  },
  {
   "cell_type": "code",
   "execution_count": 12,
   "metadata": {},
   "outputs": [],
   "source": [
    "games_data = games_data.merge(cover_data, how='left', on='cover')\n",
    "games_data = games_data.drop(columns=['cover'])"
   ]
  },
  {
   "cell_type": "markdown",
   "metadata": {},
   "source": [
    "Changing the original enumeration number to strings values"
   ]
  },
  {
   "cell_type": "code",
   "execution_count": 13,
   "metadata": {},
   "outputs": [],
   "source": [
    "games_data['genres'] = games_data['genres'].apply(lambda value: list(map(genres_dict.get, value)) if value is not np.nan else ['NaN'])\n",
    "games_data['game_modes'] = games_data['game_modes'].apply(lambda value: list(map(game_modes_dict.get, value)) if value is not np.nan else ['NaN'])\n",
    "games_data['themes'] = games_data['themes'].apply(lambda value: list(map(themes_dict.get, value)) if value is not np.nan else ['NaN'])\n",
    "games_data['platforms'] = games_data['platforms'].apply(lambda value: list(map(platforms_dict.get, value)) if value is not np.nan else ['NaN'])"
   ]
  },
  {
   "cell_type": "markdown",
   "metadata": {},
   "source": [
    "Removing empty rows from themes and game_modes"
   ]
  },
  {
   "cell_type": "code",
   "execution_count": 14,
   "metadata": {},
   "outputs": [],
   "source": [
    "games_data = games_data[[True if x!=['NaN'] else False for x in games_data['themes']]]\n",
    "games_data = games_data[[True if x!=['NaN'] else False for x in games_data['game_modes']]]\n",
    "games_data = games_data.reset_index(drop=True)"
   ]
  },
  {
   "cell_type": "code",
   "execution_count": 15,
   "metadata": {},
   "outputs": [
    {
     "data": {
      "text/html": [
       "<div>\n",
       "<style scoped>\n",
       "    .dataframe tbody tr th:only-of-type {\n",
       "        vertical-align: middle;\n",
       "    }\n",
       "\n",
       "    .dataframe tbody tr th {\n",
       "        vertical-align: top;\n",
       "    }\n",
       "\n",
       "    .dataframe thead th {\n",
       "        text-align: right;\n",
       "    }\n",
       "</style>\n",
       "<table border=\"1\" class=\"dataframe\">\n",
       "  <thead>\n",
       "    <tr style=\"text-align: right;\">\n",
       "      <th></th>\n",
       "      <th>id</th>\n",
       "      <th>game_modes</th>\n",
       "      <th>genres</th>\n",
       "      <th>name</th>\n",
       "      <th>platforms</th>\n",
       "      <th>themes</th>\n",
       "      <th>total_rating</th>\n",
       "      <th>year_of_release</th>\n",
       "      <th>url</th>\n",
       "    </tr>\n",
       "  </thead>\n",
       "  <tbody>\n",
       "    <tr>\n",
       "      <th>0</th>\n",
       "      <td>1</td>\n",
       "      <td>[single-player]</td>\n",
       "      <td>[shooter, simulator, adventure]</td>\n",
       "      <td>Thief II: The Metal Age</td>\n",
       "      <td>[win]</td>\n",
       "      <td>[action, fantasy, stealth]</td>\n",
       "      <td>88.149403</td>\n",
       "      <td>2000</td>\n",
       "      <td>//images.igdb.com/igdb/image/upload/t_cover_bi...</td>\n",
       "    </tr>\n",
       "    <tr>\n",
       "      <th>1</th>\n",
       "      <td>2</td>\n",
       "      <td>[single-player]</td>\n",
       "      <td>[simulator, adventure]</td>\n",
       "      <td>Thief: The Dark Project</td>\n",
       "      <td>[win]</td>\n",
       "      <td>[action, fantasy, stealth]</td>\n",
       "      <td>78.289619</td>\n",
       "      <td>1998</td>\n",
       "      <td>//images.igdb.com/igdb/image/upload/t_cover_bi...</td>\n",
       "    </tr>\n",
       "    <tr>\n",
       "      <th>2</th>\n",
       "      <td>3</td>\n",
       "      <td>[single-player]</td>\n",
       "      <td>[shooter, simulator, adventure]</td>\n",
       "      <td>Thief: Deadly Shadows</td>\n",
       "      <td>[win, xbox]</td>\n",
       "      <td>[action, fantasy, stealth]</td>\n",
       "      <td>82.503065</td>\n",
       "      <td>2004</td>\n",
       "      <td>//images.igdb.com/igdb/image/upload/t_cover_bi...</td>\n",
       "    </tr>\n",
       "    <tr>\n",
       "      <th>3</th>\n",
       "      <td>4</td>\n",
       "      <td>[single-player]</td>\n",
       "      <td>[shooter, adventure]</td>\n",
       "      <td>Thief</td>\n",
       "      <td>[win, ps3, xbox360, mac, ps4--1, xboxone]</td>\n",
       "      <td>[action, stealth, sandbox]</td>\n",
       "      <td>66.948249</td>\n",
       "      <td>2014</td>\n",
       "      <td>//images.igdb.com/igdb/image/upload/t_cover_bi...</td>\n",
       "    </tr>\n",
       "    <tr>\n",
       "      <th>4</th>\n",
       "      <td>5</td>\n",
       "      <td>[single-player, co-operative]</td>\n",
       "      <td>[role-playing-rpg]</td>\n",
       "      <td>Baldur's Gate</td>\n",
       "      <td>[linux, win, mac, ios]</td>\n",
       "      <td>[fantasy, open-world]</td>\n",
       "      <td>86.002845</td>\n",
       "      <td>1998</td>\n",
       "      <td>//images.igdb.com/igdb/image/upload/t_cover_bi...</td>\n",
       "    </tr>\n",
       "    <tr>\n",
       "      <th>...</th>\n",
       "      <td>...</td>\n",
       "      <td>...</td>\n",
       "      <td>...</td>\n",
       "      <td>...</td>\n",
       "      <td>...</td>\n",
       "      <td>...</td>\n",
       "      <td>...</td>\n",
       "      <td>...</td>\n",
       "      <td>...</td>\n",
       "    </tr>\n",
       "    <tr>\n",
       "      <th>21382</th>\n",
       "      <td>290671</td>\n",
       "      <td>[massively-multiplayer-online-mmo]</td>\n",
       "      <td>[role-playing-rpg, adventure]</td>\n",
       "      <td>Night Crows</td>\n",
       "      <td>[win, android, ios]</td>\n",
       "      <td>[action, open-world]</td>\n",
       "      <td>68.000000</td>\n",
       "      <td>2024</td>\n",
       "      <td>//images.igdb.com/igdb/image/upload/t_cover_bi...</td>\n",
       "    </tr>\n",
       "    <tr>\n",
       "      <th>21383</th>\n",
       "      <td>293325</td>\n",
       "      <td>[multiplayer, massively-multiplayer-online-mmo...</td>\n",
       "      <td>[point-and-click, role-playing-rpg, indie]</td>\n",
       "      <td>Ruthnar Online</td>\n",
       "      <td>[win]</td>\n",
       "      <td>[survival, sandbox, open-world]</td>\n",
       "      <td>95.193617</td>\n",
       "      <td>2024</td>\n",
       "      <td>//images.igdb.com/igdb/image/upload/t_cover_bi...</td>\n",
       "    </tr>\n",
       "    <tr>\n",
       "      <th>21384</th>\n",
       "      <td>294233</td>\n",
       "      <td>[single-player]</td>\n",
       "      <td>[shooter, arcade]</td>\n",
       "      <td>Flightpath: Adventures in Venaris</td>\n",
       "      <td>[ps4--1, xboxone, switch, ps5, series-x]</td>\n",
       "      <td>[action]</td>\n",
       "      <td>77.000000</td>\n",
       "      <td>2024</td>\n",
       "      <td>//images.igdb.com/igdb/image/upload/t_cover_bi...</td>\n",
       "    </tr>\n",
       "    <tr>\n",
       "      <th>21385</th>\n",
       "      <td>294643</td>\n",
       "      <td>[single-player]</td>\n",
       "      <td>[role-playing-rpg, adventure]</td>\n",
       "      <td>Smuta</td>\n",
       "      <td>[win]</td>\n",
       "      <td>[action, educational, open-world]</td>\n",
       "      <td>31.913523</td>\n",
       "      <td>2024</td>\n",
       "      <td>//images.igdb.com/igdb/image/upload/t_cover_bi...</td>\n",
       "    </tr>\n",
       "    <tr>\n",
       "      <th>21386</th>\n",
       "      <td>294661</td>\n",
       "      <td>[multiplayer, co-operative]</td>\n",
       "      <td>[adventure, indie]</td>\n",
       "      <td>Content Warning</td>\n",
       "      <td>[win]</td>\n",
       "      <td>[action, horror, comedy]</td>\n",
       "      <td>60.572257</td>\n",
       "      <td>2024</td>\n",
       "      <td>//images.igdb.com/igdb/image/upload/t_cover_bi...</td>\n",
       "    </tr>\n",
       "  </tbody>\n",
       "</table>\n",
       "<p>21387 rows × 9 columns</p>\n",
       "</div>"
      ],
      "text/plain": [
       "           id                                         game_modes  \\\n",
       "0           1                                    [single-player]   \n",
       "1           2                                    [single-player]   \n",
       "2           3                                    [single-player]   \n",
       "3           4                                    [single-player]   \n",
       "4           5                      [single-player, co-operative]   \n",
       "...       ...                                                ...   \n",
       "21382  290671                 [massively-multiplayer-online-mmo]   \n",
       "21383  293325  [multiplayer, massively-multiplayer-online-mmo...   \n",
       "21384  294233                                    [single-player]   \n",
       "21385  294643                                    [single-player]   \n",
       "21386  294661                        [multiplayer, co-operative]   \n",
       "\n",
       "                                           genres  \\\n",
       "0                 [shooter, simulator, adventure]   \n",
       "1                          [simulator, adventure]   \n",
       "2                 [shooter, simulator, adventure]   \n",
       "3                            [shooter, adventure]   \n",
       "4                              [role-playing-rpg]   \n",
       "...                                           ...   \n",
       "21382               [role-playing-rpg, adventure]   \n",
       "21383  [point-and-click, role-playing-rpg, indie]   \n",
       "21384                           [shooter, arcade]   \n",
       "21385               [role-playing-rpg, adventure]   \n",
       "21386                          [adventure, indie]   \n",
       "\n",
       "                                    name  \\\n",
       "0                Thief II: The Metal Age   \n",
       "1                Thief: The Dark Project   \n",
       "2                  Thief: Deadly Shadows   \n",
       "3                                  Thief   \n",
       "4                          Baldur's Gate   \n",
       "...                                  ...   \n",
       "21382                        Night Crows   \n",
       "21383                     Ruthnar Online   \n",
       "21384  Flightpath: Adventures in Venaris   \n",
       "21385                              Smuta   \n",
       "21386                    Content Warning   \n",
       "\n",
       "                                       platforms  \\\n",
       "0                                          [win]   \n",
       "1                                          [win]   \n",
       "2                                    [win, xbox]   \n",
       "3      [win, ps3, xbox360, mac, ps4--1, xboxone]   \n",
       "4                         [linux, win, mac, ios]   \n",
       "...                                          ...   \n",
       "21382                        [win, android, ios]   \n",
       "21383                                      [win]   \n",
       "21384   [ps4--1, xboxone, switch, ps5, series-x]   \n",
       "21385                                      [win]   \n",
       "21386                                      [win]   \n",
       "\n",
       "                                  themes  total_rating  year_of_release  \\\n",
       "0             [action, fantasy, stealth]     88.149403             2000   \n",
       "1             [action, fantasy, stealth]     78.289619             1998   \n",
       "2             [action, fantasy, stealth]     82.503065             2004   \n",
       "3             [action, stealth, sandbox]     66.948249             2014   \n",
       "4                  [fantasy, open-world]     86.002845             1998   \n",
       "...                                  ...           ...              ...   \n",
       "21382               [action, open-world]     68.000000             2024   \n",
       "21383    [survival, sandbox, open-world]     95.193617             2024   \n",
       "21384                           [action]     77.000000             2024   \n",
       "21385  [action, educational, open-world]     31.913523             2024   \n",
       "21386           [action, horror, comedy]     60.572257             2024   \n",
       "\n",
       "                                                     url  \n",
       "0      //images.igdb.com/igdb/image/upload/t_cover_bi...  \n",
       "1      //images.igdb.com/igdb/image/upload/t_cover_bi...  \n",
       "2      //images.igdb.com/igdb/image/upload/t_cover_bi...  \n",
       "3      //images.igdb.com/igdb/image/upload/t_cover_bi...  \n",
       "4      //images.igdb.com/igdb/image/upload/t_cover_bi...  \n",
       "...                                                  ...  \n",
       "21382  //images.igdb.com/igdb/image/upload/t_cover_bi...  \n",
       "21383  //images.igdb.com/igdb/image/upload/t_cover_bi...  \n",
       "21384  //images.igdb.com/igdb/image/upload/t_cover_bi...  \n",
       "21385  //images.igdb.com/igdb/image/upload/t_cover_bi...  \n",
       "21386  //images.igdb.com/igdb/image/upload/t_cover_bi...  \n",
       "\n",
       "[21387 rows x 9 columns]"
      ]
     },
     "execution_count": 15,
     "metadata": {},
     "output_type": "execute_result"
    }
   ],
   "source": [
    "games_data"
   ]
  },
  {
   "cell_type": "code",
   "execution_count": 16,
   "metadata": {},
   "outputs": [
    {
     "data": {
      "text/plain": [
       "single-player                       20515\n",
       "multiplayer                          7484\n",
       "co-operative                         3602\n",
       "split-screen                         1335\n",
       "massively-multiplayer-online-mmo      638\n",
       "battle-royale                          68\n",
       "Name: count, dtype: int64"
      ]
     },
     "metadata": {},
     "output_type": "display_data"
    },
    {
     "data": {
      "text/plain": [
       "indie                        10152\n",
       "adventure                     9742\n",
       "role-playing-rpg              4773\n",
       "strategy                      4291\n",
       "simulator                     3993\n",
       "shooter                       3802\n",
       "puzzle                        3146\n",
       "platform                      3044\n",
       "arcade                        2602\n",
       "sport                         1390\n",
       "racing                        1227\n",
       "fighting                      1116\n",
       "hack-and-slash-beat-em-up     1099\n",
       "turn-based-strategy-tbs        896\n",
       "point-and-click                824\n",
       "real-time-strategy-rts         756\n",
       "tactical                       695\n",
       "visual-novel                   626\n",
       "music                          432\n",
       "card-and-board-game            378\n",
       "quiz-trivia                    135\n",
       "pinball                         43\n",
       "moba                            26\n",
       "Name: count, dtype: int64"
      ]
     },
     "metadata": {},
     "output_type": "display_data"
    },
    {
     "data": {
      "text/plain": [
       "win                                        15827\n",
       "mac                                         5436\n",
       "ps4--1                                      4285\n",
       "switch                                      3956\n",
       "xboxone                                     3582\n",
       "                                           ...  \n",
       "1292-advanced-programmable-video-system        1\n",
       "pdp1                                           1\n",
       "supergrafx                                     1\n",
       "donner30                                       1\n",
       "evercade                                       1\n",
       "Name: count, Length: 153, dtype: int64"
      ]
     },
     "metadata": {},
     "output_type": "display_data"
    },
    {
     "data": {
      "text/plain": [
       "action                                       14936\n",
       "fantasy                                       4286\n",
       "science-fiction                               4069\n",
       "comedy                                        2197\n",
       "horror                                        1760\n",
       "historical                                    1473\n",
       "open-world                                    1005\n",
       "survival                                       942\n",
       "warfare                                        916\n",
       "mystery                                        898\n",
       "kids                                           830\n",
       "sandbox                                        803\n",
       "party                                          738\n",
       "stealth                                        598\n",
       "drama                                          461\n",
       "erotic                                         440\n",
       "non-fiction                                    428\n",
       "educational                                    385\n",
       "thriller                                       318\n",
       "business                                       317\n",
       "romance                                        309\n",
       "4x-explore-expand-exploit-and-exterminate      155\n",
       "Name: count, dtype: int64"
      ]
     },
     "metadata": {},
     "output_type": "display_data"
    },
    {
     "data": {
      "text/plain": [
       "year_of_release\n",
       "2017    2210\n",
       "2016    2115\n",
       "2018    1801\n",
       "2015    1551\n",
       "2019    1413\n",
       "2014    1043\n",
       "2020     875\n",
       "2013     698\n",
       "2021     615\n",
       "2012     582\n",
       "2022     515\n",
       "2011     507\n",
       "2009     503\n",
       "2023     457\n",
       "2010     448\n",
       "2008     443\n",
       "2007     440\n",
       "2006     422\n",
       "2005     395\n",
       "2003     365\n",
       "2004     354\n",
       "2002     341\n",
       "1999     255\n",
       "2001     253\n",
       "2000     247\n",
       "1993     216\n",
       "1998     208\n",
       "1995     205\n",
       "1994     200\n",
       "1997     194\n",
       "1991     190\n",
       "1996     182\n",
       "1992     177\n",
       "1990     133\n",
       "1989     115\n",
       "1987     106\n",
       "2024     101\n",
       "1988      86\n",
       "1986      85\n",
       "1985      67\n",
       "1983      66\n",
       "1984      61\n",
       "1982      57\n",
       "1981      34\n",
       "1980      19\n",
       "1979      11\n",
       "1977       7\n",
       "1978       5\n",
       "1976       3\n",
       "1971       2\n",
       "1973       2\n",
       "1972       2\n",
       "1962       1\n",
       "1969       1\n",
       "1974       1\n",
       "1958       1\n",
       "1975       1\n",
       "Name: count, dtype: int64"
      ]
     },
     "metadata": {},
     "output_type": "display_data"
    }
   ],
   "source": [
    "statistics_clusters(games_data)"
   ]
  },
  {
   "cell_type": "markdown",
   "metadata": {},
   "source": [
    "Preparing data for training"
   ]
  },
  {
   "cell_type": "code",
   "execution_count": 17,
   "metadata": {},
   "outputs": [],
   "source": [
    "games_data_ml = prepare_data_for_clustering(games_data, ['id', 'name', 'url','platforms','total_rating'])"
   ]
  },
  {
   "cell_type": "markdown",
   "metadata": {},
   "source": [
    "Creating a copy of the game_data_ml variable to predict the original data later"
   ]
  },
  {
   "cell_type": "code",
   "execution_count": 18,
   "metadata": {},
   "outputs": [],
   "source": [
    "predict_data = games_data_ml.copy()"
   ]
  },
  {
   "cell_type": "markdown",
   "metadata": {},
   "source": [
    "Removing duplicated rows for training"
   ]
  },
  {
   "cell_type": "code",
   "execution_count": 19,
   "metadata": {},
   "outputs": [],
   "source": [
    "games_data_ml = games_data_ml.drop_duplicates()"
   ]
  },
  {
   "cell_type": "markdown",
   "metadata": {},
   "source": [
    "Checking the best k cluster between 50 and 60 for k-prototype with Calinski Harabasz"
   ]
  },
  {
   "cell_type": "code",
   "execution_count": 20,
   "metadata": {},
   "outputs": [
    {
     "data": {
      "application/vnd.plotly.v1+json": {
       "config": {
        "plotlyServerURL": "https://plot.ly"
       },
       "data": [
        {
         "hovertemplate": "k=%{x}<br>result=%{y}<extra></extra>",
         "legendgroup": "",
         "line": {
          "color": "#636efa",
          "dash": "solid"
         },
         "marker": {
          "symbol": "circle"
         },
         "mode": "lines",
         "name": "",
         "orientation": "v",
         "showlegend": false,
         "type": "scatter",
         "x": [
          50,
          51,
          52,
          53,
          54,
          55,
          56,
          57,
          58,
          59,
          60
         ],
         "xaxis": "x",
         "y": [
          6261.44405961333,
          6253.494567323266,
          6094.40724954942,
          6082.789984555436,
          5892.946334969489,
          5884.4864310371295,
          5739.199822883897,
          5806.0461715488345,
          5461.479124183797,
          5725.389235308835,
          5334.418414356781
         ],
         "yaxis": "y"
        }
       ],
       "layout": {
        "legend": {
         "tracegroupgap": 0
        },
        "margin": {
         "t": 60
        },
        "template": {
         "data": {
          "bar": [
           {
            "error_x": {
             "color": "#2a3f5f"
            },
            "error_y": {
             "color": "#2a3f5f"
            },
            "marker": {
             "line": {
              "color": "#E5ECF6",
              "width": 0.5
             },
             "pattern": {
              "fillmode": "overlay",
              "size": 10,
              "solidity": 0.2
             }
            },
            "type": "bar"
           }
          ],
          "barpolar": [
           {
            "marker": {
             "line": {
              "color": "#E5ECF6",
              "width": 0.5
             },
             "pattern": {
              "fillmode": "overlay",
              "size": 10,
              "solidity": 0.2
             }
            },
            "type": "barpolar"
           }
          ],
          "carpet": [
           {
            "aaxis": {
             "endlinecolor": "#2a3f5f",
             "gridcolor": "white",
             "linecolor": "white",
             "minorgridcolor": "white",
             "startlinecolor": "#2a3f5f"
            },
            "baxis": {
             "endlinecolor": "#2a3f5f",
             "gridcolor": "white",
             "linecolor": "white",
             "minorgridcolor": "white",
             "startlinecolor": "#2a3f5f"
            },
            "type": "carpet"
           }
          ],
          "choropleth": [
           {
            "colorbar": {
             "outlinewidth": 0,
             "ticks": ""
            },
            "type": "choropleth"
           }
          ],
          "contour": [
           {
            "colorbar": {
             "outlinewidth": 0,
             "ticks": ""
            },
            "colorscale": [
             [
              0,
              "#0d0887"
             ],
             [
              0.1111111111111111,
              "#46039f"
             ],
             [
              0.2222222222222222,
              "#7201a8"
             ],
             [
              0.3333333333333333,
              "#9c179e"
             ],
             [
              0.4444444444444444,
              "#bd3786"
             ],
             [
              0.5555555555555556,
              "#d8576b"
             ],
             [
              0.6666666666666666,
              "#ed7953"
             ],
             [
              0.7777777777777778,
              "#fb9f3a"
             ],
             [
              0.8888888888888888,
              "#fdca26"
             ],
             [
              1,
              "#f0f921"
             ]
            ],
            "type": "contour"
           }
          ],
          "contourcarpet": [
           {
            "colorbar": {
             "outlinewidth": 0,
             "ticks": ""
            },
            "type": "contourcarpet"
           }
          ],
          "heatmap": [
           {
            "colorbar": {
             "outlinewidth": 0,
             "ticks": ""
            },
            "colorscale": [
             [
              0,
              "#0d0887"
             ],
             [
              0.1111111111111111,
              "#46039f"
             ],
             [
              0.2222222222222222,
              "#7201a8"
             ],
             [
              0.3333333333333333,
              "#9c179e"
             ],
             [
              0.4444444444444444,
              "#bd3786"
             ],
             [
              0.5555555555555556,
              "#d8576b"
             ],
             [
              0.6666666666666666,
              "#ed7953"
             ],
             [
              0.7777777777777778,
              "#fb9f3a"
             ],
             [
              0.8888888888888888,
              "#fdca26"
             ],
             [
              1,
              "#f0f921"
             ]
            ],
            "type": "heatmap"
           }
          ],
          "heatmapgl": [
           {
            "colorbar": {
             "outlinewidth": 0,
             "ticks": ""
            },
            "colorscale": [
             [
              0,
              "#0d0887"
             ],
             [
              0.1111111111111111,
              "#46039f"
             ],
             [
              0.2222222222222222,
              "#7201a8"
             ],
             [
              0.3333333333333333,
              "#9c179e"
             ],
             [
              0.4444444444444444,
              "#bd3786"
             ],
             [
              0.5555555555555556,
              "#d8576b"
             ],
             [
              0.6666666666666666,
              "#ed7953"
             ],
             [
              0.7777777777777778,
              "#fb9f3a"
             ],
             [
              0.8888888888888888,
              "#fdca26"
             ],
             [
              1,
              "#f0f921"
             ]
            ],
            "type": "heatmapgl"
           }
          ],
          "histogram": [
           {
            "marker": {
             "pattern": {
              "fillmode": "overlay",
              "size": 10,
              "solidity": 0.2
             }
            },
            "type": "histogram"
           }
          ],
          "histogram2d": [
           {
            "colorbar": {
             "outlinewidth": 0,
             "ticks": ""
            },
            "colorscale": [
             [
              0,
              "#0d0887"
             ],
             [
              0.1111111111111111,
              "#46039f"
             ],
             [
              0.2222222222222222,
              "#7201a8"
             ],
             [
              0.3333333333333333,
              "#9c179e"
             ],
             [
              0.4444444444444444,
              "#bd3786"
             ],
             [
              0.5555555555555556,
              "#d8576b"
             ],
             [
              0.6666666666666666,
              "#ed7953"
             ],
             [
              0.7777777777777778,
              "#fb9f3a"
             ],
             [
              0.8888888888888888,
              "#fdca26"
             ],
             [
              1,
              "#f0f921"
             ]
            ],
            "type": "histogram2d"
           }
          ],
          "histogram2dcontour": [
           {
            "colorbar": {
             "outlinewidth": 0,
             "ticks": ""
            },
            "colorscale": [
             [
              0,
              "#0d0887"
             ],
             [
              0.1111111111111111,
              "#46039f"
             ],
             [
              0.2222222222222222,
              "#7201a8"
             ],
             [
              0.3333333333333333,
              "#9c179e"
             ],
             [
              0.4444444444444444,
              "#bd3786"
             ],
             [
              0.5555555555555556,
              "#d8576b"
             ],
             [
              0.6666666666666666,
              "#ed7953"
             ],
             [
              0.7777777777777778,
              "#fb9f3a"
             ],
             [
              0.8888888888888888,
              "#fdca26"
             ],
             [
              1,
              "#f0f921"
             ]
            ],
            "type": "histogram2dcontour"
           }
          ],
          "mesh3d": [
           {
            "colorbar": {
             "outlinewidth": 0,
             "ticks": ""
            },
            "type": "mesh3d"
           }
          ],
          "parcoords": [
           {
            "line": {
             "colorbar": {
              "outlinewidth": 0,
              "ticks": ""
             }
            },
            "type": "parcoords"
           }
          ],
          "pie": [
           {
            "automargin": true,
            "type": "pie"
           }
          ],
          "scatter": [
           {
            "fillpattern": {
             "fillmode": "overlay",
             "size": 10,
             "solidity": 0.2
            },
            "type": "scatter"
           }
          ],
          "scatter3d": [
           {
            "line": {
             "colorbar": {
              "outlinewidth": 0,
              "ticks": ""
             }
            },
            "marker": {
             "colorbar": {
              "outlinewidth": 0,
              "ticks": ""
             }
            },
            "type": "scatter3d"
           }
          ],
          "scattercarpet": [
           {
            "marker": {
             "colorbar": {
              "outlinewidth": 0,
              "ticks": ""
             }
            },
            "type": "scattercarpet"
           }
          ],
          "scattergeo": [
           {
            "marker": {
             "colorbar": {
              "outlinewidth": 0,
              "ticks": ""
             }
            },
            "type": "scattergeo"
           }
          ],
          "scattergl": [
           {
            "marker": {
             "colorbar": {
              "outlinewidth": 0,
              "ticks": ""
             }
            },
            "type": "scattergl"
           }
          ],
          "scattermapbox": [
           {
            "marker": {
             "colorbar": {
              "outlinewidth": 0,
              "ticks": ""
             }
            },
            "type": "scattermapbox"
           }
          ],
          "scatterpolar": [
           {
            "marker": {
             "colorbar": {
              "outlinewidth": 0,
              "ticks": ""
             }
            },
            "type": "scatterpolar"
           }
          ],
          "scatterpolargl": [
           {
            "marker": {
             "colorbar": {
              "outlinewidth": 0,
              "ticks": ""
             }
            },
            "type": "scatterpolargl"
           }
          ],
          "scatterternary": [
           {
            "marker": {
             "colorbar": {
              "outlinewidth": 0,
              "ticks": ""
             }
            },
            "type": "scatterternary"
           }
          ],
          "surface": [
           {
            "colorbar": {
             "outlinewidth": 0,
             "ticks": ""
            },
            "colorscale": [
             [
              0,
              "#0d0887"
             ],
             [
              0.1111111111111111,
              "#46039f"
             ],
             [
              0.2222222222222222,
              "#7201a8"
             ],
             [
              0.3333333333333333,
              "#9c179e"
             ],
             [
              0.4444444444444444,
              "#bd3786"
             ],
             [
              0.5555555555555556,
              "#d8576b"
             ],
             [
              0.6666666666666666,
              "#ed7953"
             ],
             [
              0.7777777777777778,
              "#fb9f3a"
             ],
             [
              0.8888888888888888,
              "#fdca26"
             ],
             [
              1,
              "#f0f921"
             ]
            ],
            "type": "surface"
           }
          ],
          "table": [
           {
            "cells": {
             "fill": {
              "color": "#EBF0F8"
             },
             "line": {
              "color": "white"
             }
            },
            "header": {
             "fill": {
              "color": "#C8D4E3"
             },
             "line": {
              "color": "white"
             }
            },
            "type": "table"
           }
          ]
         },
         "layout": {
          "annotationdefaults": {
           "arrowcolor": "#2a3f5f",
           "arrowhead": 0,
           "arrowwidth": 1
          },
          "autotypenumbers": "strict",
          "coloraxis": {
           "colorbar": {
            "outlinewidth": 0,
            "ticks": ""
           }
          },
          "colorscale": {
           "diverging": [
            [
             0,
             "#8e0152"
            ],
            [
             0.1,
             "#c51b7d"
            ],
            [
             0.2,
             "#de77ae"
            ],
            [
             0.3,
             "#f1b6da"
            ],
            [
             0.4,
             "#fde0ef"
            ],
            [
             0.5,
             "#f7f7f7"
            ],
            [
             0.6,
             "#e6f5d0"
            ],
            [
             0.7,
             "#b8e186"
            ],
            [
             0.8,
             "#7fbc41"
            ],
            [
             0.9,
             "#4d9221"
            ],
            [
             1,
             "#276419"
            ]
           ],
           "sequential": [
            [
             0,
             "#0d0887"
            ],
            [
             0.1111111111111111,
             "#46039f"
            ],
            [
             0.2222222222222222,
             "#7201a8"
            ],
            [
             0.3333333333333333,
             "#9c179e"
            ],
            [
             0.4444444444444444,
             "#bd3786"
            ],
            [
             0.5555555555555556,
             "#d8576b"
            ],
            [
             0.6666666666666666,
             "#ed7953"
            ],
            [
             0.7777777777777778,
             "#fb9f3a"
            ],
            [
             0.8888888888888888,
             "#fdca26"
            ],
            [
             1,
             "#f0f921"
            ]
           ],
           "sequentialminus": [
            [
             0,
             "#0d0887"
            ],
            [
             0.1111111111111111,
             "#46039f"
            ],
            [
             0.2222222222222222,
             "#7201a8"
            ],
            [
             0.3333333333333333,
             "#9c179e"
            ],
            [
             0.4444444444444444,
             "#bd3786"
            ],
            [
             0.5555555555555556,
             "#d8576b"
            ],
            [
             0.6666666666666666,
             "#ed7953"
            ],
            [
             0.7777777777777778,
             "#fb9f3a"
            ],
            [
             0.8888888888888888,
             "#fdca26"
            ],
            [
             1,
             "#f0f921"
            ]
           ]
          },
          "colorway": [
           "#636efa",
           "#EF553B",
           "#00cc96",
           "#ab63fa",
           "#FFA15A",
           "#19d3f3",
           "#FF6692",
           "#B6E880",
           "#FF97FF",
           "#FECB52"
          ],
          "font": {
           "color": "#2a3f5f"
          },
          "geo": {
           "bgcolor": "white",
           "lakecolor": "white",
           "landcolor": "#E5ECF6",
           "showlakes": true,
           "showland": true,
           "subunitcolor": "white"
          },
          "hoverlabel": {
           "align": "left"
          },
          "hovermode": "closest",
          "mapbox": {
           "style": "light"
          },
          "paper_bgcolor": "white",
          "plot_bgcolor": "#E5ECF6",
          "polar": {
           "angularaxis": {
            "gridcolor": "white",
            "linecolor": "white",
            "ticks": ""
           },
           "bgcolor": "#E5ECF6",
           "radialaxis": {
            "gridcolor": "white",
            "linecolor": "white",
            "ticks": ""
           }
          },
          "scene": {
           "xaxis": {
            "backgroundcolor": "#E5ECF6",
            "gridcolor": "white",
            "gridwidth": 2,
            "linecolor": "white",
            "showbackground": true,
            "ticks": "",
            "zerolinecolor": "white"
           },
           "yaxis": {
            "backgroundcolor": "#E5ECF6",
            "gridcolor": "white",
            "gridwidth": 2,
            "linecolor": "white",
            "showbackground": true,
            "ticks": "",
            "zerolinecolor": "white"
           },
           "zaxis": {
            "backgroundcolor": "#E5ECF6",
            "gridcolor": "white",
            "gridwidth": 2,
            "linecolor": "white",
            "showbackground": true,
            "ticks": "",
            "zerolinecolor": "white"
           }
          },
          "shapedefaults": {
           "line": {
            "color": "#2a3f5f"
           }
          },
          "ternary": {
           "aaxis": {
            "gridcolor": "white",
            "linecolor": "white",
            "ticks": ""
           },
           "baxis": {
            "gridcolor": "white",
            "linecolor": "white",
            "ticks": ""
           },
           "bgcolor": "#E5ECF6",
           "caxis": {
            "gridcolor": "white",
            "linecolor": "white",
            "ticks": ""
           }
          },
          "title": {
           "x": 0.05
          },
          "xaxis": {
           "automargin": true,
           "gridcolor": "white",
           "linecolor": "white",
           "ticks": "",
           "title": {
            "standoff": 15
           },
           "zerolinecolor": "white",
           "zerolinewidth": 2
          },
          "yaxis": {
           "automargin": true,
           "gridcolor": "white",
           "linecolor": "white",
           "ticks": "",
           "title": {
            "standoff": 15
           },
           "zerolinecolor": "white",
           "zerolinewidth": 2
          }
         }
        },
        "xaxis": {
         "anchor": "y",
         "domain": [
          0,
          1
         ],
         "title": {
          "text": "k"
         }
        },
        "yaxis": {
         "anchor": "x",
         "domain": [
          0,
          1
         ],
         "title": {
          "text": "result"
         }
        }
       }
      }
     },
     "metadata": {},
     "output_type": "display_data"
    }
   ],
   "source": [
    "data_array = games_data_ml.to_numpy()\n",
    "categorical_features_idx = list(range(1, games_data_ml.shape[1]))\n",
    "\n",
    "result = {}\n",
    "for k in range(50, 61):\n",
    "    kprototype = KPrototypes(n_jobs = -1, n_clusters = k, n_init = 15, init = 'Huang', random_state = SEED)\n",
    "    kprototype.fit_predict(data_array, categorical=categorical_features_idx)\n",
    "    labels = kprototype.labels_\n",
    "\n",
    "    result[k] = calinski_harabasz_score(games_data_ml, labels)\n",
    "\n",
    "df_kprototypes = pd.DataFrame(\n",
    "    dict(\n",
    "        k = result.keys(),\n",
    "        result = result.values()\n",
    "    )\n",
    ")\n",
    "\n",
    "fig = px.line(\n",
    "    df_kprototypes, x='k', y='result'\n",
    ")\n",
    "\n",
    "fig.show()"
   ]
  },
  {
   "cell_type": "markdown",
   "metadata": {},
   "source": [
    "Training and predicting data clusters"
   ]
  },
  {
   "cell_type": "code",
   "execution_count": 21,
   "metadata": {},
   "outputs": [],
   "source": [
    "data_array = games_data_ml.to_numpy()\n",
    "predict_data_array = predict_data.to_numpy()\n",
    "categorical_features_idx = list(range(1, games_data_ml.shape[1]))\n",
    "\n",
    "kprototype = KPrototypes(n_jobs = -1, n_clusters = 50, n_init = 15, init = 'Huang', random_state = SEED)\n",
    "kprototype.fit(data_array, categorical=categorical_features_idx)\n",
    "\n",
    "games_data['clusters'] = kprototype.predict(predict_data, categorical=categorical_features_idx)"
   ]
  },
  {
   "cell_type": "code",
   "execution_count": 22,
   "metadata": {},
   "outputs": [
    {
     "data": {
      "text/plain": [
       "clusters\n",
       "25    1981\n",
       "41    1146\n",
       "0      978\n",
       "21     961\n",
       "45     777\n",
       "33     664\n",
       "34     656\n",
       "47     576\n",
       "2      563\n",
       "37     550\n",
       "15     532\n",
       "39     487\n",
       "12     474\n",
       "6      464\n",
       "42     459\n",
       "3      450\n",
       "20     425\n",
       "49     418\n",
       "48     417\n",
       "23     412\n",
       "18     411\n",
       "31     379\n",
       "9      369\n",
       "26     362\n",
       "7      362\n",
       "8      352\n",
       "27     350\n",
       "14     344\n",
       "22     337\n",
       "17     334\n",
       "36     329\n",
       "24     323\n",
       "43     321\n",
       "35     287\n",
       "4      279\n",
       "32     278\n",
       "13     273\n",
       "10     253\n",
       "1      219\n",
       "40     214\n",
       "29     213\n",
       "28     205\n",
       "38     204\n",
       "30     197\n",
       "44     173\n",
       "46     155\n",
       "5      129\n",
       "11     128\n",
       "19     114\n",
       "16     103\n",
       "Name: count, dtype: int64"
      ]
     },
     "execution_count": 22,
     "metadata": {},
     "output_type": "execute_result"
    }
   ],
   "source": [
    "games_data['clusters'].value_counts()"
   ]
  },
  {
   "cell_type": "code",
   "execution_count": 23,
   "metadata": {},
   "outputs": [
    {
     "data": {
      "text/plain": [
       "single-player                       554\n",
       "multiplayer                         110\n",
       "co-operative                         36\n",
       "massively-multiplayer-online-mmo      7\n",
       "split-screen                          4\n",
       "Name: count, dtype: int64"
      ]
     },
     "metadata": {},
     "output_type": "display_data"
    },
    {
     "data": {
      "text/plain": [
       "simulator                    503\n",
       "strategy                     453\n",
       "indie                        243\n",
       "role-playing-rpg              66\n",
       "turn-based-strategy-tbs       64\n",
       "real-time-strategy-rts        61\n",
       "puzzle                        46\n",
       "tactical                      29\n",
       "sport                         28\n",
       "adventure                     27\n",
       "racing                        20\n",
       "arcade                        20\n",
       "card-and-board-game           18\n",
       "visual-novel                  15\n",
       "shooter                       10\n",
       "point-and-click                8\n",
       "quiz-trivia                    4\n",
       "platform                       4\n",
       "music                          3\n",
       "hack-and-slash-beat-em-up      1\n",
       "fighting                       1\n",
       "Name: count, dtype: int64"
      ]
     },
     "metadata": {},
     "output_type": "display_data"
    },
    {
     "data": {
      "text/plain": [
       "win                      484\n",
       "mac                      232\n",
       "linux                    161\n",
       "ios                      124\n",
       "ps4--1                   100\n",
       "android                   96\n",
       "switch                    82\n",
       "xboxone                   74\n",
       "steam-vr                  15\n",
       "psvita                    14\n",
       "oculus-rift               11\n",
       "ps5                       11\n",
       "psvr                      11\n",
       "3ds                       10\n",
       "browser                   10\n",
       "series-x                  10\n",
       "xbox360                    7\n",
       "ps3                        7\n",
       "stadia                     5\n",
       "wiiu                       5\n",
       "oculus-quest               4\n",
       "meta-quest-2               4\n",
       "winphone                   3\n",
       "mobile                     3\n",
       "windows-mixed-reality      2\n",
       "oculus-vr                  2\n",
       "psvr2                      1\n",
       "palm-os                    1\n",
       "new-nintendo-3ds           1\n",
       "oculus-go                  1\n",
       "Name: count, dtype: int64"
      ]
     },
     "metadata": {},
     "output_type": "display_data"
    },
    {
     "data": {
      "text/plain": [
       "science-fiction                              103\n",
       "action                                       101\n",
       "historical                                    98\n",
       "business                                      82\n",
       "sandbox                                       79\n",
       "warfare                                       58\n",
       "fantasy                                       50\n",
       "educational                                   38\n",
       "survival                                      31\n",
       "kids                                          31\n",
       "comedy                                        29\n",
       "4x-explore-expand-exploit-and-exterminate     26\n",
       "erotic                                        22\n",
       "open-world                                    16\n",
       "party                                         16\n",
       "horror                                        13\n",
       "non-fiction                                   10\n",
       "romance                                       10\n",
       "drama                                          8\n",
       "stealth                                        7\n",
       "mystery                                        6\n",
       "thriller                                       1\n",
       "Name: count, dtype: int64"
      ]
     },
     "metadata": {},
     "output_type": "display_data"
    },
    {
     "data": {
      "text/plain": [
       "year_of_release\n",
       "2016    174\n",
       "2017     93\n",
       "2018     92\n",
       "2015     81\n",
       "2014     77\n",
       "2013     26\n",
       "2019     16\n",
       "2012      4\n",
       "Name: count, dtype: int64"
      ]
     },
     "metadata": {},
     "output_type": "display_data"
    }
   ],
   "source": [
    "statistics_clusters(games_data[(games_data['clusters'] == 2)].reset_index())"
   ]
  },
  {
   "cell_type": "markdown",
   "metadata": {},
   "source": [
    "Creating a distance matrix with Jaccard to check the similar matches of each game"
   ]
  },
  {
   "cell_type": "code",
   "execution_count": 24,
   "metadata": {},
   "outputs": [
    {
     "name": "stderr",
     "output_type": "stream",
     "text": [
      "e:\\Coding\\Gaming Recommendation\\.venv\\Lib\\site-packages\\sklearn\\metrics\\pairwise.py:2317: DataConversionWarning:\n",
      "\n",
      "Data was converted to boolean for metric jaccard\n",
      "\n"
     ]
    }
   ],
   "source": [
    "distance_matrix = pairwise_distances(predict_data[predict_data.columns[1:]].to_numpy(), metric='jaccard')"
   ]
  },
  {
   "cell_type": "code",
   "execution_count": 25,
   "metadata": {},
   "outputs": [],
   "source": [
    "df_distances = pd.DataFrame(list(zip(games_data['id'],distance_matrix)), columns = ['id', 'distances'])"
   ]
  },
  {
   "cell_type": "markdown",
   "metadata": {},
   "source": [
    "Create SQlite database for Streamlit"
   ]
  },
  {
   "cell_type": "code",
   "execution_count": 26,
   "metadata": {},
   "outputs": [],
   "source": [
    "if os.path.exists('../Databases/streamlit_database.db'):\n",
    "    os.remove('../Databases/streamlit_database.db')"
   ]
  },
  {
   "cell_type": "code",
   "execution_count": 27,
   "metadata": {},
   "outputs": [],
   "source": [
    "df_distances_output = df_distances.copy()\n",
    "df_distances_output['distances'] = df_distances_output['distances'].map(lambda x: ','.join(map(str, x)))\n",
    "df_distances_output['distances'] = df_distances_output['distances'].map(lambda x: zlib.compress(bytes(x, 'utf-8')))"
   ]
  },
  {
   "cell_type": "code",
   "execution_count": 28,
   "metadata": {},
   "outputs": [],
   "source": [
    "games_data_output = games_data.copy()\n",
    "games_data_output['game_modes'] = games_data_output['game_modes'].map(lambda x: ','.join(map(str, x)))\n",
    "games_data_output['genres'] = games_data_output['genres'].map(lambda x: ','.join(map(str, x)))\n",
    "games_data_output['platforms'] = games_data_output['platforms'].map(lambda x: ','.join(map(str, x)))\n",
    "games_data_output['themes'] = games_data_output['themes'].map(lambda x: ','.join(map(str, x)))"
   ]
  },
  {
   "cell_type": "code",
   "execution_count": 29,
   "metadata": {},
   "outputs": [],
   "source": [
    "engine = create_engine('sqlite:///../Databases/streamlit_database.db', echo=True)"
   ]
  },
  {
   "cell_type": "code",
   "execution_count": 30,
   "metadata": {},
   "outputs": [
    {
     "name": "stdout",
     "output_type": "stream",
     "text": [
      "2024-06-11 18:13:43,021 INFO sqlalchemy.engine.Engine BEGIN (implicit)\n",
      "2024-06-11 18:13:43,026 INFO sqlalchemy.engine.Engine PRAGMA main.table_info(\"distances\")\n",
      "2024-06-11 18:13:43,027 INFO sqlalchemy.engine.Engine [raw sql] ()\n",
      "2024-06-11 18:13:43,028 INFO sqlalchemy.engine.Engine PRAGMA temp.table_info(\"distances\")\n",
      "2024-06-11 18:13:43,029 INFO sqlalchemy.engine.Engine [raw sql] ()\n",
      "2024-06-11 18:13:43,030 INFO sqlalchemy.engine.Engine \n",
      "CREATE TABLE distances (\n",
      "\tid BIGINT, \n",
      "\tdistances TEXT\n",
      ")\n",
      "\n",
      "\n",
      "2024-06-11 18:13:43,031 INFO sqlalchemy.engine.Engine [no key 0.00105s] ()\n",
      "2024-06-11 18:13:43,086 INFO sqlalchemy.engine.Engine INSERT INTO distances (id, distances) VALUES (?, ?)\n",
      "2024-06-11 18:13:43,087 INFO sqlalchemy.engine.Engine [generated in 0.03564s] [(1, b'x\\x9c\\xbd\\xbd\\x0br\\xe4\\xb6\\xd2u;!\\xc6\\x17n\\xc9\\xd5\\x92\\xe6?\\xb1{T*\\x80@a\\xad\\xac\\r\\xca\\xffm\\x87\\xda6E\\x82@>v>\\x01\\xfe\\xf3\\x7f\\xff\\x1c\\xff\\xfc\\xdf\\x9 ... (73936 characters truncated) ... w%\\xdb\\xbd\\xd4\\xce\\x9dY\\xc6\\xa2\\x17\\x98x\\x90\\x19\\x03\\x91L=q\\n\\xe43kv\\xe7\\xcb`\\xb2\\xcf/\\xd6\\x8b\\xc0uY~6+\\x8f\\xde \\x82\\xeei\\xff%\\x10\\xfb\\xff\\x03!S\\xbct'), (2, b'x\\x9c\\xb5\\x9d\\x89r\\xeb\\xb8\\x92m\\x7fH\\xd1Q\\xc7.\\x1fK\\xff\\xffc\\xef\\xda\\x16\\x06\\x12k\\xa56\\xe8zuC\\xd5\\xd54\\t\\x029\\xec\\x1c\\x01\\xfe\\xf3\\x7f\\x7f\\xfe}\\xbb\\x ... (73182 characters truncated) ... \\x0b\\x05\\x86+oD\\xd43=\\xd1\\rL W\\xc7\\x03D4\\xd2\\x8e\\xbcn\\x12\\xbb\\x1b\\xfa\\x0f\\xea\\x9f\\x13\\xa3\\xe0EO\\xc3\\xf2T\\x17|p\\xfa\\x1b\\x90\\xe8<\\xd5\\xff\\x07[\\xee:\\xd5'), (3, b'x\\x9c\\xbd\\xbd\\x0br\\xe4\\xb6\\xd2u;!\\xc6\\x17n\\xc9\\xd5\\x92\\xe6?\\xb1{T*\\x80@a\\xad\\xac\\r\\xca\\xffm\\x87\\xda6E\\x82@>v>\\x01\\xfe\\xf3\\x7f\\xff\\x1c\\xff\\xfc\\xdf\\x9 ... (73936 characters truncated) ... w%\\xdb\\xbd\\xd4\\xce\\x9dY\\xc6\\xa2\\x17\\x98x\\x90\\x19\\x03\\x91L=q\\n\\xe43kv\\xe7\\xcb`\\xb2\\xcf/\\xd6\\x8b\\xc0uY~6+\\x8f\\xde \\x82\\xeei\\xff%\\x10\\xfb\\xff\\x03!S\\xbct'), (4, b'x\\x9c\\xad\\x9d\\x0br\\xdc8\\xb2E7T\\xf1\\xc2\\x96,K\\xda\\xff\\xc6\\xdeH*\\x12\\x00\\xf3\\x9c\\xac\\x8br{B\\x9e6E\\x82@~n~\\x01\\xfe\\xfa\\xbf\\xd7\\xf7\\xb7\\xdb\\xaf\\xff\\xfb\\ ... (74614 characters truncated) ... xf0\\x14\\xb7\\xdff\\xcf$\\xf4\\x93\\xeb\\xae\\xaf\\x81\\x83\\xa0~7\\xcelDN\\x01\\x91\\xe7\\x982\\x10\\xf3\\xaa\\xc9w\\x90\\xcf\\xc6\\xad\\xba\\x99\\t\\xfb\\x95D\\xff\\x0fr)\\xf5\\x7f'), (5, b'x\\x9c\\xcd\\x9d[v\\xdc\\xb8\\xb2m;\\x94\\xe3\\x8c*\\xd9*Y\\xfd\\xef\\xd8\\xddv&I\\x80\\x983\\xb8\\x82\\xe9\\x8f\\xeb\\x1a\\xd2\\xd9\\x87\"A \\x1e+\\x9e\\x00\\xff\\xf9\\xbf_\\x8f\\x7 ... (70743 characters truncated) ... 9L\\xb5\\x85fEA\\r\\xa4\\xc8\\xbe\\xd2\\xb4\\xbe\\xaf8\\xc3\\xa8s \\xac\\xaaM\\xe6\\x96V\\x81$]\\x07\\xd7\\x0e\\xe0\"+{G\\x97$\\tq\\x8e-\\xcc\\xdc\\xb2\\x8b\\xfe\\xff\\x00\\xd5hb\\xf5'), (6, b'x\\x9c\\xd5\\x9d\\x8b\\x92\\xdbJ\\x8eD\\x7fH\\xb1a\\xb7\\xdd\\x96\\xfb\\xff\\x7fl\\xc7-\\x91,\\xb2\\xce\\x01\\x13\\x94f#\\xd6\\x1b\\xf6\\xde\\xa1\\xc8b\\x15\\x1e\\x89\\x04\\xea\\xc1\\ ... (69288 characters truncated) ... xe3s\\x19\\xd3\\x18b\\x8c\\x9a\\xa8\\xe3\\xef,\\x93x\\xfdw{\\xbb\\xd3\\xe5\\x96\\xb9q[\\xb0yS\\xd2G\\x982E\\x11\\x12\\x19\\xe7\\xa4\\n\\xdcT\\xc9\\x16\\x1b\\xfd\\xfa_U\\xfe\\x18\\xf3'), (9, b'x\\x9c\\xb5\\xbd\\x0br\\xdc8\\xd36\\xbb!\\xc5\\x89\\xb1d\\xb5\\xa4\\xfdo\\xec|\\x96\\x9bl\\xb2\\x91\\x897\\t\\xf9\\xf7D\\xcfL\\xd0\\xbc\\x00\\x85\\xaa\\xa7\\xae(\\xfc\\xf7\\xff}\\xfe ... (78991 characters truncated) ... \\x85\\r\\xd0\\'\\x82\\x932\\\\_\\xff\\xfd\\xfe\\xb8\\xfd\\xda\\xff-\\xc5\\xcf\\x92\\x91\\x8f\\xcdp\\x04>S0)\\xd6\\xfc\\xdb\\xe4\\x8a\\xe7\\xeag[\\x04c\\xfd\\xff\\x07\\x81\\x0b\\x95\\xe0'), (11, b'x\\x9c\\xbd\\xbd\\x0bv\\xdd8\\x966;\\xa1\\xb3\\xfe\\x95\\x96S\\xb6<\\xff\\x89\\xdd\\xb6t\\xf8\\x12\"\\xa0\\x00\\x95u\\xab\\xd6qWS$\\x08\\xec\\xc7\\xb7\\x9f\\x00\\xff\\xf9\\x7f\\xbf_. ... (75092 characters truncated) ... 2\"\\x9b,\\xc0\\xc3\\xb0\\xd6\\xed\\xd0\\xe9\\x1f\\xaf\\xef\\xc7Pg\\xc5iw\\xb5`\\x88 \\x90\\x17E\\x82\\x01\\xa4\\x84<m\\xd0s~+\\xa8\\x13\\x00\\xd5\\xd7A\\xf6\\xff\\x07\\xa3\\x84\\xadZ')  ... displaying 10 of 21387 total bound parameter sets ...  (294643, b'x\\x9c\\xad\\x9d\\tr\\xdc:\\xb2E7\\xc4\\xe8\\xb0%\\xcbU\\xda\\xff\\xc6\\xfe\\xb7T\\x04A\\xe69Y\\x17\\xa5\\xe7\\x17r\\xbb!\\x0e@\\x0e7G\\x80\\xbf\\xfew\\xdb~\\xfd\\xef\\xef\\xe5\\xcf ... (75019 characters truncated) ... \\xaa\\xabY\\xfc\\xfcs{\\xff{\\xff\\xf3\\xf6\\xfb\\xd7\\xc7\\xdb\\xdf\\xf7&\\xe1\\xec\\t\\x9f\\xe3\\xf90G \\xee6\\xb5\\xdc-x@\\xe8I\\xc8y\\x8b\\xbf\\xe0\\xa9\\xff\\x07\\xef5\\xd1\\x03'), (294661, b'x\\x9c\\xcd\\x9div\\xdc8\\xba(7\\x94\\xe7\\x1e[*\\r\\xde\\xff\\xc6^\\x97\\x94$\\xc1D\\x04\\x14L\\xd7\\x8f\\xe7:r\\xbb)\\x0e\\xc07\\xcf\\xf8\\xf5\\x7f\\x9f\\xaf\\xa7?\\xff\\xdc~\\xfd ... (76634 characters truncated) ... \\x07[*\\x8f\\x9a\\x87OD\\xe3\"8\\x06\\xea<\\xcb\\x9dq\\xe4\\x0bP\\xc3\\x88\\x8eLCD,\\xc9.\\x85\\xbb\\xe8],[\\x88\\x16\\xf93\\xc6YI\\nI\\xcd\\x8c\\xc8\\xc7_\\xff\\x0f\\x1d\\xb1\\xdby')]\n",
      "2024-06-11 18:13:44,539 INFO sqlalchemy.engine.Engine COMMIT\n",
      "2024-06-11 18:13:44,672 INFO sqlalchemy.engine.Engine BEGIN (implicit)\n",
      "2024-06-11 18:13:44,677 INFO sqlalchemy.engine.Engine PRAGMA main.table_info(\"game_data\")\n",
      "2024-06-11 18:13:44,677 INFO sqlalchemy.engine.Engine [raw sql] ()\n",
      "2024-06-11 18:13:44,678 INFO sqlalchemy.engine.Engine PRAGMA temp.table_info(\"game_data\")\n",
      "2024-06-11 18:13:44,678 INFO sqlalchemy.engine.Engine [raw sql] ()\n",
      "2024-06-11 18:13:44,679 INFO sqlalchemy.engine.Engine \n",
      "CREATE TABLE game_data (\n",
      "\tid BIGINT, \n",
      "\tgame_modes TEXT, \n",
      "\tgenres TEXT, \n",
      "\tname TEXT, \n",
      "\tplatforms TEXT, \n",
      "\tthemes TEXT, \n",
      "\ttotal_rating FLOAT, \n",
      "\tyear_of_release INTEGER, \n",
      "\turl TEXT, \n",
      "\tclusters INTEGER\n",
      ")\n",
      "\n",
      "\n",
      "2024-06-11 18:13:44,680 INFO sqlalchemy.engine.Engine [no key 0.00044s] ()\n",
      "2024-06-11 18:13:44,771 INFO sqlalchemy.engine.Engine INSERT INTO game_data (id, game_modes, genres, name, platforms, themes, total_rating, year_of_release, url, clusters) VALUES (?, ?, ?, ?, ?, ?, ?, ?, ?, ?)\n",
      "2024-06-11 18:13:44,772 INFO sqlalchemy.engine.Engine [generated in 0.06544s] [(1, 'single-player', 'shooter,simulator,adventure', 'Thief II: The Metal Age', 'win', 'action,fantasy,stealth', 88.14940341725854, 2000, '//images.igdb.com/igdb/image/upload/t_cover_big/co698n.jpg', 4), (2, 'single-player', 'simulator,adventure', 'Thief: The Dark Project', 'win', 'action,fantasy,stealth', 78.28961904396498, 1998, '//images.igdb.com/igdb/image/upload/t_cover_big/co22ne.jpg', 4), (3, 'single-player', 'shooter,simulator,adventure', 'Thief: Deadly Shadows', 'win,xbox', 'action,fantasy,stealth', 82.50306454758547, 2004, '//images.igdb.com/igdb/image/upload/t_cover_big/co2rom.jpg', 23), (4, 'single-player', 'shooter,adventure', 'Thief', 'win,ps3,xbox360,mac,ps4--1,xboxone', 'action,stealth,sandbox', 66.9482487216052, 2014, '//images.igdb.com/igdb/image/upload/t_cover_big/co22nc.jpg', 47), (5, 'single-player,co-operative', 'role-playing-rpg', \"Baldur's Gate\", 'linux,win,mac,ios', 'fantasy,open-world', 86.00284495270849, 1998, '//images.igdb.com/igdb/image/upload/t_cover_big/co20gb.jpg', 40), (6, 'single-player,co-operative', 'role-playing-rpg', \"Baldur's Gate II: Shadows of Amn\", 'linux,win,mac', 'fantasy', 88.8902492850942, 2000, '//images.igdb.com/igdb/image/upload/t_cover_big/co71yr.jpg', 40), (9, 'single-player', 'role-playing-rpg,strategy,turn-based-strategy-tbs,tactical,adventure', 'Jagged Alliance 2', 'linux,win,amiga', 'science-fiction,historical', 86.93272068746947, 1999, '//images.igdb.com/igdb/image/upload/t_cover_big/co28qh.jpg', 40), (11, 'single-player', 'role-playing-rpg', 'Vampire: The Masquerade - Bloodlines', 'win', 'action,fantasy,horror,thriller,open-world', 79.37325814905412, 2004, '//images.igdb.com/igdb/image/upload/t_cover_big/co2n14.jpg', 28)  ... displaying 10 of 21387 total bound parameter sets ...  (294643, 'single-player', 'role-playing-rpg,adventure', 'Smuta', 'win', 'action,educational,open-world', 31.91352345906164, 2024, '//images.igdb.com/igdb/image/upload/t_cover_big/co81li.jpg', 8), (294661, 'multiplayer,co-operative', 'adventure,indie', 'Content Warning', 'win', 'action,horror,comedy', 60.57225742674316, 2024, '//images.igdb.com/igdb/image/upload/t_cover_big/co8086.jpg', 8)]\n",
      "2024-06-11 18:13:44,806 INFO sqlalchemy.engine.Engine COMMIT\n"
     ]
    },
    {
     "data": {
      "text/plain": [
       "21387"
      ]
     },
     "execution_count": 30,
     "metadata": {},
     "output_type": "execute_result"
    }
   ],
   "source": [
    "df_distances_output.to_sql(name='distances', con=engine, if_exists='append', index=False)\n",
    "games_data_output.to_sql(name='game_data', con=engine, if_exists='append', index=False)"
   ]
  },
  {
   "cell_type": "code",
   "execution_count": 31,
   "metadata": {},
   "outputs": [],
   "source": [
    "engine.dispose()"
   ]
  }
 ],
 "metadata": {
  "kernelspec": {
   "display_name": "venv",
   "language": "python",
   "name": "python3"
  },
  "language_info": {
   "codemirror_mode": {
    "name": "ipython",
    "version": 3
   },
   "file_extension": ".py",
   "mimetype": "text/x-python",
   "name": "python",
   "nbconvert_exporter": "python",
   "pygments_lexer": "ipython3",
   "version": "3.12.3"
  }
 },
 "nbformat": 4,
 "nbformat_minor": 2
}
